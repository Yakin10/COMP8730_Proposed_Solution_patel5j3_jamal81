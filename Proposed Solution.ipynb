{
 "cells": [
  {
   "cell_type": "markdown",
   "metadata": {},
   "source": [
    "Importing Packages"
   ]
  },
  {
   "cell_type": "code",
   "execution_count": 1,
   "metadata": {},
   "outputs": [
    {
     "name": "stderr",
     "output_type": "stream",
     "text": [
      "C:\\Users\\patel\\AppData\\Local\\Programs\\Python\\Python39\\lib\\site-packages\\numpy\\_distributor_init.py:30: UserWarning: loaded more than 1 DLL from .libs:\n",
      "C:\\Users\\patel\\AppData\\Local\\Programs\\Python\\Python39\\lib\\site-packages\\numpy\\.libs\\libopenblas.EL2C6PLE4ZYW3ECEVIV3OXXGRN2NRFM2.gfortran-win_amd64.dll\n",
      "C:\\Users\\patel\\AppData\\Local\\Programs\\Python\\Python39\\lib\\site-packages\\numpy\\.libs\\libopenblas.WCDJNK7YVMPZQ2ME2ZZHJJRJ3JIKNDB7.gfortran-win_amd64.dll\n",
      "  warnings.warn(\"loaded more than 1 DLL from .libs:\"\n"
     ]
    }
   ],
   "source": [
    "import pandas as pd\n",
    "import numpy as np\n",
    "import re\n",
    "import nltk\n",
    "from nltk.corpus import stopwords\n",
    "from sklearn.model_selection import train_test_split\n",
    "from matplotlib import pyplot as plt\n",
    "from gensim.models import Word2Vec\n",
    "import seaborn as sns\n",
    "from sklearn.feature_extraction.text import TfidfVectorizer\n",
    "from sklearn.linear_model import LogisticRegression\n",
    "from sklearn.naive_bayes import MultinomialNB\n",
    "from sklearn.metrics import classification_report, accuracy_score"
   ]
  },
  {
   "cell_type": "markdown",
   "metadata": {},
   "source": [
    "Loading Data"
   ]
  },
  {
   "cell_type": "code",
   "execution_count": 2,
   "metadata": {},
   "outputs": [],
   "source": [
    "kabikit = pd.read_csv(\"data\\\\kabitakitchen.csv\", encoding='unicode-escape')\n",
    "nisha = pd.read_csv(\"data\\\\Nishafin.csv\")"
   ]
  },
  {
   "cell_type": "code",
   "execution_count": 3,
   "metadata": {},
   "outputs": [
    {
     "name": "stdout",
     "output_type": "stream",
     "text": [
      "id 4900\n",
      "commentText 4900\n",
      "Labels 4900\n",
      "Encoded 4900\n"
     ]
    },
    {
     "data": {
      "text/html": [
       "<div>\n",
       "<style scoped>\n",
       "    .dataframe tbody tr th:only-of-type {\n",
       "        vertical-align: middle;\n",
       "    }\n",
       "\n",
       "    .dataframe tbody tr th {\n",
       "        vertical-align: top;\n",
       "    }\n",
       "\n",
       "    .dataframe thead th {\n",
       "        text-align: right;\n",
       "    }\n",
       "</style>\n",
       "<table border=\"1\" class=\"dataframe\">\n",
       "  <thead>\n",
       "    <tr style=\"text-align: right;\">\n",
       "      <th></th>\n",
       "      <th>id</th>\n",
       "      <th>commentText</th>\n",
       "      <th>Labels</th>\n",
       "      <th>Encoded</th>\n",
       "    </tr>\n",
       "  </thead>\n",
       "  <tbody>\n",
       "    <tr>\n",
       "      <th>0</th>\n",
       "      <td>Ugy_CBm-_CKA3YqrzcB4AaABAg</td>\n",
       "      <td>Pudina ptta nhi dalu to</td>\n",
       "      <td>7</td>\n",
       "      <td>1</td>\n",
       "    </tr>\n",
       "    <tr>\n",
       "      <th>1</th>\n",
       "      <td>Ugy9mx9nuTWJu4dRac14AaABAg</td>\n",
       "      <td>Chiken kacha tu ni rhy ga sis</td>\n",
       "      <td>7</td>\n",
       "      <td>1</td>\n",
       "    </tr>\n",
       "    <tr>\n",
       "      <th>2</th>\n",
       "      <td>Ugz8T2MKLYucL3dM9nh4AaABAg</td>\n",
       "      <td>Hello mam, I love your all recipes.... ðð...</td>\n",
       "      <td>4</td>\n",
       "      <td>0</td>\n",
       "    </tr>\n",
       "    <tr>\n",
       "      <th>3</th>\n",
       "      <td>Ugx_1cCjRbCaDgL0FLF4AaABAg</td>\n",
       "      <td>Its awesome recipe plzz make handi chicken in ...</td>\n",
       "      <td>2</td>\n",
       "      <td>0</td>\n",
       "    </tr>\n",
       "    <tr>\n",
       "      <th>4</th>\n",
       "      <td>UgzLhKVAJ6NN3nZXyjN4AaABAg</td>\n",
       "      <td>Yeh jo measurement hai.........kitne logon ke ...</td>\n",
       "      <td>7</td>\n",
       "      <td>1</td>\n",
       "    </tr>\n",
       "  </tbody>\n",
       "</table>\n",
       "</div>"
      ],
      "text/plain": [
       "                           id  \\\n",
       "0  Ugy_CBm-_CKA3YqrzcB4AaABAg   \n",
       "1  Ugy9mx9nuTWJu4dRac14AaABAg   \n",
       "2  Ugz8T2MKLYucL3dM9nh4AaABAg   \n",
       "3  Ugx_1cCjRbCaDgL0FLF4AaABAg   \n",
       "4  UgzLhKVAJ6NN3nZXyjN4AaABAg   \n",
       "\n",
       "                                         commentText  Labels  Encoded  \n",
       "0                            Pudina ptta nhi dalu to       7        1  \n",
       "1                      Chiken kacha tu ni rhy ga sis       7        1  \n",
       "2  Hello mam, I love your all recipes.... ðð...       4        0  \n",
       "3  Its awesome recipe plzz make handi chicken in ...       2        0  \n",
       "4  Yeh jo measurement hai.........kitne logon ke ...       7        1  "
      ]
     },
     "execution_count": 3,
     "metadata": {},
     "output_type": "execute_result"
    }
   ],
   "source": [
    "for col in kabikit.columns:\n",
    "    print(col, kabikit[col].count())\n",
    "kabikit.head()"
   ]
  },
  {
   "cell_type": "code",
   "execution_count": 4,
   "metadata": {},
   "outputs": [
    {
     "name": "stdout",
     "output_type": "stream",
     "text": [
      "id 4900\n",
      "commentText 4900\n",
      "Labels 4900\n",
      "Encoded 4900\n"
     ]
    },
    {
     "data": {
      "text/html": [
       "<div>\n",
       "<style scoped>\n",
       "    .dataframe tbody tr th:only-of-type {\n",
       "        vertical-align: middle;\n",
       "    }\n",
       "\n",
       "    .dataframe tbody tr th {\n",
       "        vertical-align: top;\n",
       "    }\n",
       "\n",
       "    .dataframe thead th {\n",
       "        text-align: right;\n",
       "    }\n",
       "</style>\n",
       "<table border=\"1\" class=\"dataframe\">\n",
       "  <thead>\n",
       "    <tr style=\"text-align: right;\">\n",
       "      <th></th>\n",
       "      <th>id</th>\n",
       "      <th>commentText</th>\n",
       "      <th>Labels</th>\n",
       "      <th>Encoded</th>\n",
       "    </tr>\n",
       "  </thead>\n",
       "  <tbody>\n",
       "    <tr>\n",
       "      <th>0</th>\n",
       "      <td>Ugz7LQV0ZWpuNnjBaxJ4AaABAg</td>\n",
       "      <td>i  love potato ke prathe</td>\n",
       "      <td>2</td>\n",
       "      <td>0</td>\n",
       "    </tr>\n",
       "    <tr>\n",
       "      <th>1</th>\n",
       "      <td>UgxvWJ_kJL2nePTkg2N4AaABAg</td>\n",
       "      <td>Wwaaaaaaaaaaaaaaaaaaaaaaaaaaaaaaaaaaaaaaaaaaaaaww</td>\n",
       "      <td>3</td>\n",
       "      <td>0</td>\n",
       "    </tr>\n",
       "    <tr>\n",
       "      <th>2</th>\n",
       "      <td>UgxxeUmiH9f8XOZZWr14AaABAg</td>\n",
       "      <td>Nice</td>\n",
       "      <td>3</td>\n",
       "      <td>0</td>\n",
       "    </tr>\n",
       "    <tr>\n",
       "      <th>3</th>\n",
       "      <td>Ugz-UPvwHMx4nSKVoCB4AaABAg</td>\n",
       "      <td>Wow Amazing</td>\n",
       "      <td>3</td>\n",
       "      <td>0</td>\n",
       "    </tr>\n",
       "    <tr>\n",
       "      <th>4</th>\n",
       "      <td>UgzfXhbesBABQzi4-m94AaABAg</td>\n",
       "      <td>Thank you madam</td>\n",
       "      <td>1</td>\n",
       "      <td>0</td>\n",
       "    </tr>\n",
       "  </tbody>\n",
       "</table>\n",
       "</div>"
      ],
      "text/plain": [
       "                           id  \\\n",
       "0  Ugz7LQV0ZWpuNnjBaxJ4AaABAg   \n",
       "1  UgxvWJ_kJL2nePTkg2N4AaABAg   \n",
       "2  UgxxeUmiH9f8XOZZWr14AaABAg   \n",
       "3  Ugz-UPvwHMx4nSKVoCB4AaABAg   \n",
       "4  UgzfXhbesBABQzi4-m94AaABAg   \n",
       "\n",
       "                                         commentText  Labels  Encoded  \n",
       "0                           i  love potato ke prathe       2        0  \n",
       "1  Wwaaaaaaaaaaaaaaaaaaaaaaaaaaaaaaaaaaaaaaaaaaaaaww       3        0  \n",
       "2                                               Nice       3        0  \n",
       "3                                        Wow Amazing       3        0  \n",
       "4                                    Thank you madam       1        0  "
      ]
     },
     "execution_count": 4,
     "metadata": {},
     "output_type": "execute_result"
    }
   ],
   "source": [
    "for col in nisha.columns:\n",
    "    print(col, nisha[col].count())\n",
    "nisha.head()"
   ]
  },
  {
   "cell_type": "markdown",
   "metadata": {},
   "source": [
    "Pre-Processing"
   ]
  },
  {
   "cell_type": "code",
   "execution_count": 5,
   "metadata": {},
   "outputs": [],
   "source": [
    "def preprocess_input(text):\n",
    "    # remove smiley if any\n",
    "    emoji_pattern = re.compile(\"[\"\n",
    "        u\"\\U0001F600-\\U0001F64F\"  # emoticons\n",
    "        u\"\\U0001F300-\\U0001F5FF\"  # symbols & pictographs\n",
    "        u\"\\U0001F680-\\U0001F6FF\"  # transport & map symbols\n",
    "        u\"\\U0001F1E0-\\U0001F1FF\"  # flags (iOS)\n",
    "        u\"\\U0001F1F2-\\U0001F1F4\"  # Macau flag\n",
    "        u\"\\U0001F1E6-\\U0001F1FF\"  # flags\n",
    "        u\"\\U0001F600-\\U0001F64F\"\n",
    "        u\"\\U00002702-\\U000027B0\"\n",
    "        u\"\\U000024C2-\\U0001F251\"\n",
    "        u\"\\U0001f926-\\U0001f937\"\n",
    "        u\"\\U0001F1F2\"\n",
    "        u\"\\U0001F1F4\"\n",
    "        u\"\\U0001F620\"\n",
    "        u\"\\u200d\"\n",
    "        u\"\\u2640-\\u2642\"\n",
    "        \"]+\", flags=re.UNICODE)\n",
    "\n",
    "    text = emoji_pattern.sub(r'', text)\n",
    "    prep_text = text.lower()\n",
    "    \n",
    "    #remove hyperlinks\n",
    "    prep_text = re.sub(r'(https|http)?:\\/\\/(\\w|\\.|\\/|\\?|\\=|\\&|\\%)*\\b', '', prep_text)\n",
    "    #removing text inside ()\n",
    "    prep_text = re.sub(r'\\([^)]*\\)', '', prep_text)\n",
    "    #removing text inside []\n",
    "    prep_text = re.sub(r'\\{[^)]*\\}', '', prep_text)\n",
    "    #fetching alphabetic characters\n",
    "    prep_text = re.sub(\"[^a-zA-Z]\", \" \", prep_text)\n",
    "    #removing stop words\n",
    "    stopWEn = stopwords.words('english')\n",
    "    tokens = [w for w in prep_text.split() if not w in stopWEn] \n",
    "    fin_words = [i for i in tokens if len(i)>=4]\n",
    "    #return \" \".join(prep_text.split())\n",
    "    return (\" \".join(fin_words)).strip()"
   ]
  },
  {
   "cell_type": "code",
   "execution_count": 6,
   "metadata": {},
   "outputs": [
    {
     "data": {
      "text/html": [
       "<div>\n",
       "<style scoped>\n",
       "    .dataframe tbody tr th:only-of-type {\n",
       "        vertical-align: middle;\n",
       "    }\n",
       "\n",
       "    .dataframe tbody tr th {\n",
       "        vertical-align: top;\n",
       "    }\n",
       "\n",
       "    .dataframe thead th {\n",
       "        text-align: right;\n",
       "    }\n",
       "</style>\n",
       "<table border=\"1\" class=\"dataframe\">\n",
       "  <thead>\n",
       "    <tr style=\"text-align: right;\">\n",
       "      <th></th>\n",
       "      <th>id</th>\n",
       "      <th>commentText</th>\n",
       "      <th>Labels</th>\n",
       "      <th>Encoded</th>\n",
       "      <th>prep_text</th>\n",
       "    </tr>\n",
       "  </thead>\n",
       "  <tbody>\n",
       "    <tr>\n",
       "      <th>0</th>\n",
       "      <td>Ugy_CBm-_CKA3YqrzcB4AaABAg</td>\n",
       "      <td>Pudina ptta nhi dalu to</td>\n",
       "      <td>6</td>\n",
       "      <td>1</td>\n",
       "      <td>pudina ptta dalu</td>\n",
       "    </tr>\n",
       "    <tr>\n",
       "      <th>1</th>\n",
       "      <td>Ugy9mx9nuTWJu4dRac14AaABAg</td>\n",
       "      <td>Chiken kacha tu ni rhy ga sis</td>\n",
       "      <td>6</td>\n",
       "      <td>1</td>\n",
       "      <td>chiken kacha</td>\n",
       "    </tr>\n",
       "    <tr>\n",
       "      <th>2</th>\n",
       "      <td>Ugz8T2MKLYucL3dM9nh4AaABAg</td>\n",
       "      <td>Hello mam, I love your all recipes.... ðð...</td>\n",
       "      <td>3</td>\n",
       "      <td>0</td>\n",
       "      <td>hello love recipes ingredients easily availabl...</td>\n",
       "    </tr>\n",
       "    <tr>\n",
       "      <th>3</th>\n",
       "      <td>Ugx_1cCjRbCaDgL0FLF4AaABAg</td>\n",
       "      <td>Its awesome recipe plzz make handi chicken in ...</td>\n",
       "      <td>1</td>\n",
       "      <td>0</td>\n",
       "      <td>awesome recipe plzz make handi chicken handi</td>\n",
       "    </tr>\n",
       "    <tr>\n",
       "      <th>4</th>\n",
       "      <td>UgzLhKVAJ6NN3nZXyjN4AaABAg</td>\n",
       "      <td>Yeh jo measurement hai.........kitne logon ke ...</td>\n",
       "      <td>6</td>\n",
       "      <td>1</td>\n",
       "      <td>measurement kitne logon liye</td>\n",
       "    </tr>\n",
       "  </tbody>\n",
       "</table>\n",
       "</div>"
      ],
      "text/plain": [
       "                           id  \\\n",
       "0  Ugy_CBm-_CKA3YqrzcB4AaABAg   \n",
       "1  Ugy9mx9nuTWJu4dRac14AaABAg   \n",
       "2  Ugz8T2MKLYucL3dM9nh4AaABAg   \n",
       "3  Ugx_1cCjRbCaDgL0FLF4AaABAg   \n",
       "4  UgzLhKVAJ6NN3nZXyjN4AaABAg   \n",
       "\n",
       "                                         commentText  Labels  Encoded  \\\n",
       "0                            Pudina ptta nhi dalu to       6        1   \n",
       "1                      Chiken kacha tu ni rhy ga sis       6        1   \n",
       "2  Hello mam, I love your all recipes.... ðð...       3        0   \n",
       "3  Its awesome recipe plzz make handi chicken in ...       1        0   \n",
       "4  Yeh jo measurement hai.........kitne logon ke ...       6        1   \n",
       "\n",
       "                                           prep_text  \n",
       "0                                   pudina ptta dalu  \n",
       "1                                       chiken kacha  \n",
       "2  hello love recipes ingredients easily availabl...  \n",
       "3       awesome recipe plzz make handi chicken handi  \n",
       "4                       measurement kitne logon liye  "
      ]
     },
     "execution_count": 6,
     "metadata": {},
     "output_type": "execute_result"
    }
   ],
   "source": [
    "kabikit['commentText'] = kabikit['commentText'].astype(str)\n",
    "kabikit['Labels'] = kabikit['Labels'].astype(int)\n",
    "kabikit['Labels'] = kabikit['Labels'].astype(int)\n",
    "kabikit['Labels'] = kabikit['Labels'].apply(lambda x : x-1)\n",
    "kabikit['prep_text'] = kabikit['commentText'].apply(preprocess_input)\n",
    "kabikit.head()"
   ]
  },
  {
   "cell_type": "code",
   "execution_count": 7,
   "metadata": {},
   "outputs": [
    {
     "data": {
      "text/html": [
       "<div>\n",
       "<style scoped>\n",
       "    .dataframe tbody tr th:only-of-type {\n",
       "        vertical-align: middle;\n",
       "    }\n",
       "\n",
       "    .dataframe tbody tr th {\n",
       "        vertical-align: top;\n",
       "    }\n",
       "\n",
       "    .dataframe thead th {\n",
       "        text-align: right;\n",
       "    }\n",
       "</style>\n",
       "<table border=\"1\" class=\"dataframe\">\n",
       "  <thead>\n",
       "    <tr style=\"text-align: right;\">\n",
       "      <th></th>\n",
       "      <th>id</th>\n",
       "      <th>commentText</th>\n",
       "      <th>Labels</th>\n",
       "      <th>Encoded</th>\n",
       "      <th>prep_text</th>\n",
       "    </tr>\n",
       "  </thead>\n",
       "  <tbody>\n",
       "    <tr>\n",
       "      <th>0</th>\n",
       "      <td>Ugz7LQV0ZWpuNnjBaxJ4AaABAg</td>\n",
       "      <td>i  love potato ke prathe</td>\n",
       "      <td>1</td>\n",
       "      <td>0</td>\n",
       "      <td>love potato prathe</td>\n",
       "    </tr>\n",
       "    <tr>\n",
       "      <th>1</th>\n",
       "      <td>UgxvWJ_kJL2nePTkg2N4AaABAg</td>\n",
       "      <td>Wwaaaaaaaaaaaaaaaaaaaaaaaaaaaaaaaaaaaaaaaaaaaaaww</td>\n",
       "      <td>2</td>\n",
       "      <td>0</td>\n",
       "      <td>wwaaaaaaaaaaaaaaaaaaaaaaaaaaaaaaaaaaaaaaaaaaaaaww</td>\n",
       "    </tr>\n",
       "    <tr>\n",
       "      <th>2</th>\n",
       "      <td>UgxxeUmiH9f8XOZZWr14AaABAg</td>\n",
       "      <td>Nice</td>\n",
       "      <td>2</td>\n",
       "      <td>0</td>\n",
       "      <td>nice</td>\n",
       "    </tr>\n",
       "    <tr>\n",
       "      <th>3</th>\n",
       "      <td>Ugz-UPvwHMx4nSKVoCB4AaABAg</td>\n",
       "      <td>Wow Amazing</td>\n",
       "      <td>2</td>\n",
       "      <td>0</td>\n",
       "      <td>amazing</td>\n",
       "    </tr>\n",
       "    <tr>\n",
       "      <th>4</th>\n",
       "      <td>UgzfXhbesBABQzi4-m94AaABAg</td>\n",
       "      <td>Thank you madam</td>\n",
       "      <td>0</td>\n",
       "      <td>0</td>\n",
       "      <td>thank madam</td>\n",
       "    </tr>\n",
       "  </tbody>\n",
       "</table>\n",
       "</div>"
      ],
      "text/plain": [
       "                           id  \\\n",
       "0  Ugz7LQV0ZWpuNnjBaxJ4AaABAg   \n",
       "1  UgxvWJ_kJL2nePTkg2N4AaABAg   \n",
       "2  UgxxeUmiH9f8XOZZWr14AaABAg   \n",
       "3  Ugz-UPvwHMx4nSKVoCB4AaABAg   \n",
       "4  UgzfXhbesBABQzi4-m94AaABAg   \n",
       "\n",
       "                                         commentText  Labels  Encoded  \\\n",
       "0                           i  love potato ke prathe       1        0   \n",
       "1  Wwaaaaaaaaaaaaaaaaaaaaaaaaaaaaaaaaaaaaaaaaaaaaaww       2        0   \n",
       "2                                               Nice       2        0   \n",
       "3                                        Wow Amazing       2        0   \n",
       "4                                    Thank you madam       0        0   \n",
       "\n",
       "                                           prep_text  \n",
       "0                                 love potato prathe  \n",
       "1  wwaaaaaaaaaaaaaaaaaaaaaaaaaaaaaaaaaaaaaaaaaaaaaww  \n",
       "2                                               nice  \n",
       "3                                            amazing  \n",
       "4                                        thank madam  "
      ]
     },
     "execution_count": 7,
     "metadata": {},
     "output_type": "execute_result"
    }
   ],
   "source": [
    "nisha['commentText'] = nisha['commentText'].astype(str)\n",
    "nisha['Labels'] = nisha['Labels'].astype(int)\n",
    "nisha['Labels'] = nisha['Labels'].astype(int)\n",
    "nisha['Labels'] = nisha['Labels'].apply(lambda x : x-1)\n",
    "nisha['prep_text'] = nisha['commentText'].apply(preprocess_input)\n",
    "nisha.head()"
   ]
  },
  {
   "cell_type": "code",
   "execution_count": 8,
   "metadata": {},
   "outputs": [
    {
     "name": "stdout",
     "output_type": "stream",
     "text": [
      "5    701\n",
      "6    700\n",
      "3    700\n",
      "1    700\n",
      "4    700\n",
      "2    700\n",
      "0    699\n",
      "Name: Labels, dtype: int64\n"
     ]
    },
    {
     "name": "stderr",
     "output_type": "stream",
     "text": [
      "C:\\Users\\patel\\AppData\\Local\\Programs\\Python\\Python39\\lib\\site-packages\\seaborn\\_decorators.py:36: FutureWarning: Pass the following variables as keyword args: x, y. From version 0.12, the only valid positional argument will be `data`, and passing other arguments without an explicit keyword will result in an error or misinterpretation.\n",
      "  warnings.warn(\n"
     ]
    },
    {
     "data": {
      "text/plain": [
       "<AxesSubplot:ylabel='Labels'>"
      ]
     },
     "execution_count": 8,
     "metadata": {},
     "output_type": "execute_result"
    },
    {
     "data": {
      "image/png": "[encoded data removed]",
      "text/plain": [
       "<Figure size 432x288 with 1 Axes>"
      ]
     },
     "metadata": {
      "needs_background": "light"
     },
     "output_type": "display_data"
    }
   ],
   "source": [
    "x=kabikit['Labels'].value_counts()\n",
    "print(x)\n",
    "sns.barplot(x.index,x)"
   ]
  },
  {
   "cell_type": "code",
   "execution_count": 9,
   "metadata": {},
   "outputs": [
    {
     "name": "stdout",
     "output_type": "stream",
     "text": [
      "1    700\n",
      "2    700\n",
      "0    700\n",
      "3    700\n",
      "5    700\n",
      "6    700\n",
      "4    700\n",
      "Name: Labels, dtype: int64\n"
     ]
    },
    {
     "name": "stderr",
     "output_type": "stream",
     "text": [
      "C:\\Users\\patel\\AppData\\Local\\Programs\\Python\\Python39\\lib\\site-packages\\seaborn\\_decorators.py:36: FutureWarning: Pass the following variables as keyword args: x, y. From version 0.12, the only valid positional argument will be `data`, and passing other arguments without an explicit keyword will result in an error or misinterpretation.\n",
      "  warnings.warn(\n"
     ]
    },
    {
     "data": {
      "text/plain": [
       "<AxesSubplot:ylabel='Labels'>"
      ]
     },
     "execution_count": 9,
     "metadata": {},
     "output_type": "execute_result"
    },
    {
     "data": {
      "image/png": "[encoded data removed]",
      "text/plain": [
       "<Figure size 432x288 with 1 Axes>"
      ]
     },
     "metadata": {
      "needs_background": "light"
     },
     "output_type": "display_data"
    }
   ],
   "source": [
    "x=nisha['Labels'].value_counts()\n",
    "print(x)\n",
    "sns.barplot(x.index,x)"
   ]
  },
  {
   "cell_type": "code",
   "execution_count": 10,
   "metadata": {},
   "outputs": [],
   "source": [
    "#1. WORD-COUNT\n",
    "kabikit['word_count'] = kabikit['prep_text'].apply(lambda x: len(str(x).split()))\n",
    "nisha['word_count'] = nisha['prep_text'].apply(lambda x: len(str(x).split()))\n",
    "\n",
    "#2. CHARACTER-COUNT\n",
    "kabikit['char_count'] = kabikit['prep_text'].apply(lambda x: len(str(x)))\n",
    "nisha['char_count'] = nisha['prep_text'].apply(lambda x: len(str(x)))\n",
    "\n",
    "#3. UNIQUE WORD-COUNT\n",
    "kabikit['unique_word_count'] = kabikit['prep_text'].apply(lambda x: len(set(str(x).split())))\n",
    "nisha['unique_word_count'] = nisha['prep_text'].apply(lambda x: len(set(str(x).split())))"
   ]
  },
  {
   "cell_type": "code",
   "execution_count": 11,
   "metadata": {},
   "outputs": [
    {
     "data": {
      "text/html": [
       "<div>\n",
       "<style scoped>\n",
       "    .dataframe tbody tr th:only-of-type {\n",
       "        vertical-align: middle;\n",
       "    }\n",
       "\n",
       "    .dataframe tbody tr th {\n",
       "        vertical-align: top;\n",
       "    }\n",
       "\n",
       "    .dataframe thead th {\n",
       "        text-align: right;\n",
       "    }\n",
       "</style>\n",
       "<table border=\"1\" class=\"dataframe\">\n",
       "  <thead>\n",
       "    <tr style=\"text-align: right;\">\n",
       "      <th></th>\n",
       "      <th>id</th>\n",
       "      <th>commentText</th>\n",
       "      <th>Labels</th>\n",
       "      <th>Encoded</th>\n",
       "      <th>prep_text</th>\n",
       "      <th>word_count</th>\n",
       "      <th>char_count</th>\n",
       "      <th>unique_word_count</th>\n",
       "    </tr>\n",
       "  </thead>\n",
       "  <tbody>\n",
       "    <tr>\n",
       "      <th>0</th>\n",
       "      <td>Ugy_CBm-_CKA3YqrzcB4AaABAg</td>\n",
       "      <td>Pudina ptta nhi dalu to</td>\n",
       "      <td>6</td>\n",
       "      <td>1</td>\n",
       "      <td>pudina ptta dalu</td>\n",
       "      <td>3</td>\n",
       "      <td>16</td>\n",
       "      <td>3</td>\n",
       "    </tr>\n",
       "    <tr>\n",
       "      <th>1</th>\n",
       "      <td>Ugy9mx9nuTWJu4dRac14AaABAg</td>\n",
       "      <td>Chiken kacha tu ni rhy ga sis</td>\n",
       "      <td>6</td>\n",
       "      <td>1</td>\n",
       "      <td>chiken kacha</td>\n",
       "      <td>2</td>\n",
       "      <td>12</td>\n",
       "      <td>2</td>\n",
       "    </tr>\n",
       "    <tr>\n",
       "      <th>2</th>\n",
       "      <td>Ugz8T2MKLYucL3dM9nh4AaABAg</td>\n",
       "      <td>Hello mam, I love your all recipes.... ðð...</td>\n",
       "      <td>3</td>\n",
       "      <td>0</td>\n",
       "      <td>hello love recipes ingredients easily availabl...</td>\n",
       "      <td>8</td>\n",
       "      <td>63</td>\n",
       "      <td>8</td>\n",
       "    </tr>\n",
       "    <tr>\n",
       "      <th>3</th>\n",
       "      <td>Ugx_1cCjRbCaDgL0FLF4AaABAg</td>\n",
       "      <td>Its awesome recipe plzz make handi chicken in ...</td>\n",
       "      <td>1</td>\n",
       "      <td>0</td>\n",
       "      <td>awesome recipe plzz make handi chicken handi</td>\n",
       "      <td>7</td>\n",
       "      <td>44</td>\n",
       "      <td>6</td>\n",
       "    </tr>\n",
       "    <tr>\n",
       "      <th>4</th>\n",
       "      <td>UgzLhKVAJ6NN3nZXyjN4AaABAg</td>\n",
       "      <td>Yeh jo measurement hai.........kitne logon ke ...</td>\n",
       "      <td>6</td>\n",
       "      <td>1</td>\n",
       "      <td>measurement kitne logon liye</td>\n",
       "      <td>4</td>\n",
       "      <td>28</td>\n",
       "      <td>4</td>\n",
       "    </tr>\n",
       "  </tbody>\n",
       "</table>\n",
       "</div>"
      ],
      "text/plain": [
       "                           id  \\\n",
       "0  Ugy_CBm-_CKA3YqrzcB4AaABAg   \n",
       "1  Ugy9mx9nuTWJu4dRac14AaABAg   \n",
       "2  Ugz8T2MKLYucL3dM9nh4AaABAg   \n",
       "3  Ugx_1cCjRbCaDgL0FLF4AaABAg   \n",
       "4  UgzLhKVAJ6NN3nZXyjN4AaABAg   \n",
       "\n",
       "                                         commentText  Labels  Encoded  \\\n",
       "0                            Pudina ptta nhi dalu to       6        1   \n",
       "1                      Chiken kacha tu ni rhy ga sis       6        1   \n",
       "2  Hello mam, I love your all recipes.... ðð...       3        0   \n",
       "3  Its awesome recipe plzz make handi chicken in ...       1        0   \n",
       "4  Yeh jo measurement hai.........kitne logon ke ...       6        1   \n",
       "\n",
       "                                           prep_text  word_count  char_count  \\\n",
       "0                                   pudina ptta dalu           3          16   \n",
       "1                                       chiken kacha           2          12   \n",
       "2  hello love recipes ingredients easily availabl...           8          63   \n",
       "3       awesome recipe plzz make handi chicken handi           7          44   \n",
       "4                       measurement kitne logon liye           4          28   \n",
       "\n",
       "   unique_word_count  \n",
       "0                  3  \n",
       "1                  2  \n",
       "2                  8  \n",
       "3                  6  \n",
       "4                  4  "
      ]
     },
     "execution_count": 11,
     "metadata": {},
     "output_type": "execute_result"
    }
   ],
   "source": [
    "kabikit.head()"
   ]
  },
  {
   "cell_type": "code",
   "execution_count": 12,
   "metadata": {},
   "outputs": [
    {
     "data": {
      "text/html": [
       "<div>\n",
       "<style scoped>\n",
       "    .dataframe tbody tr th:only-of-type {\n",
       "        vertical-align: middle;\n",
       "    }\n",
       "\n",
       "    .dataframe tbody tr th {\n",
       "        vertical-align: top;\n",
       "    }\n",
       "\n",
       "    .dataframe thead th {\n",
       "        text-align: right;\n",
       "    }\n",
       "</style>\n",
       "<table border=\"1\" class=\"dataframe\">\n",
       "  <thead>\n",
       "    <tr style=\"text-align: right;\">\n",
       "      <th></th>\n",
       "      <th>id</th>\n",
       "      <th>commentText</th>\n",
       "      <th>Labels</th>\n",
       "      <th>Encoded</th>\n",
       "      <th>prep_text</th>\n",
       "      <th>word_count</th>\n",
       "      <th>char_count</th>\n",
       "      <th>unique_word_count</th>\n",
       "    </tr>\n",
       "  </thead>\n",
       "  <tbody>\n",
       "    <tr>\n",
       "      <th>0</th>\n",
       "      <td>Ugz7LQV0ZWpuNnjBaxJ4AaABAg</td>\n",
       "      <td>i  love potato ke prathe</td>\n",
       "      <td>1</td>\n",
       "      <td>0</td>\n",
       "      <td>love potato prathe</td>\n",
       "      <td>3</td>\n",
       "      <td>18</td>\n",
       "      <td>3</td>\n",
       "    </tr>\n",
       "    <tr>\n",
       "      <th>1</th>\n",
       "      <td>UgxvWJ_kJL2nePTkg2N4AaABAg</td>\n",
       "      <td>Wwaaaaaaaaaaaaaaaaaaaaaaaaaaaaaaaaaaaaaaaaaaaaaww</td>\n",
       "      <td>2</td>\n",
       "      <td>0</td>\n",
       "      <td>wwaaaaaaaaaaaaaaaaaaaaaaaaaaaaaaaaaaaaaaaaaaaaaww</td>\n",
       "      <td>1</td>\n",
       "      <td>49</td>\n",
       "      <td>1</td>\n",
       "    </tr>\n",
       "    <tr>\n",
       "      <th>2</th>\n",
       "      <td>UgxxeUmiH9f8XOZZWr14AaABAg</td>\n",
       "      <td>Nice</td>\n",
       "      <td>2</td>\n",
       "      <td>0</td>\n",
       "      <td>nice</td>\n",
       "      <td>1</td>\n",
       "      <td>4</td>\n",
       "      <td>1</td>\n",
       "    </tr>\n",
       "    <tr>\n",
       "      <th>3</th>\n",
       "      <td>Ugz-UPvwHMx4nSKVoCB4AaABAg</td>\n",
       "      <td>Wow Amazing</td>\n",
       "      <td>2</td>\n",
       "      <td>0</td>\n",
       "      <td>amazing</td>\n",
       "      <td>1</td>\n",
       "      <td>7</td>\n",
       "      <td>1</td>\n",
       "    </tr>\n",
       "    <tr>\n",
       "      <th>4</th>\n",
       "      <td>UgzfXhbesBABQzi4-m94AaABAg</td>\n",
       "      <td>Thank you madam</td>\n",
       "      <td>0</td>\n",
       "      <td>0</td>\n",
       "      <td>thank madam</td>\n",
       "      <td>2</td>\n",
       "      <td>11</td>\n",
       "      <td>2</td>\n",
       "    </tr>\n",
       "  </tbody>\n",
       "</table>\n",
       "</div>"
      ],
      "text/plain": [
       "                           id  \\\n",
       "0  Ugz7LQV0ZWpuNnjBaxJ4AaABAg   \n",
       "1  UgxvWJ_kJL2nePTkg2N4AaABAg   \n",
       "2  UgxxeUmiH9f8XOZZWr14AaABAg   \n",
       "3  Ugz-UPvwHMx4nSKVoCB4AaABAg   \n",
       "4  UgzfXhbesBABQzi4-m94AaABAg   \n",
       "\n",
       "                                         commentText  Labels  Encoded  \\\n",
       "0                           i  love potato ke prathe       1        0   \n",
       "1  Wwaaaaaaaaaaaaaaaaaaaaaaaaaaaaaaaaaaaaaaaaaaaaaww       2        0   \n",
       "2                                               Nice       2        0   \n",
       "3                                        Wow Amazing       2        0   \n",
       "4                                    Thank you madam       0        0   \n",
       "\n",
       "                                           prep_text  word_count  char_count  \\\n",
       "0                                 love potato prathe           3          18   \n",
       "1  wwaaaaaaaaaaaaaaaaaaaaaaaaaaaaaaaaaaaaaaaaaaaaaww           1          49   \n",
       "2                                               nice           1           4   \n",
       "3                                            amazing           1           7   \n",
       "4                                        thank madam           2          11   \n",
       "\n",
       "   unique_word_count  \n",
       "0                  3  \n",
       "1                  1  \n",
       "2                  1  \n",
       "3                  1  \n",
       "4                  2  "
      ]
     },
     "execution_count": 12,
     "metadata": {},
     "output_type": "execute_result"
    }
   ],
   "source": [
    "nisha.head()"
   ]
  },
  {
   "cell_type": "markdown",
   "metadata": {},
   "source": [
    "Spliting Data for training and testing"
   ]
  },
  {
   "cell_type": "code",
   "execution_count": 13,
   "metadata": {},
   "outputs": [],
   "source": [
    "\n",
    "trainD, testD= train_test_split(kabikit, test_size=0.2, random_state=50, stratify=kabikit['Labels'])\n",
    "trainDN, testDN= train_test_split(nisha, test_size=0.2, random_state=50, stratify=nisha['Labels'])\n"
   ]
  },
  {
   "cell_type": "code",
   "execution_count": 14,
   "metadata": {},
   "outputs": [],
   "source": [
    "x_train = trainD['prep_text']\n",
    "y_train = trainD['Labels']\n",
    "x_test = testD['prep_text']\n",
    "y_test = testD['Labels']\n",
    "\n",
    "x_ntrain = trainDN['prep_text']\n",
    "y_ntrain = trainDN['Labels']\n",
    "x_ntest = testDN['prep_text']\n",
    "y_ntest = testDN['Labels']"
   ]
  },
  {
   "cell_type": "markdown",
   "metadata": {},
   "source": [
    "TF-IDF Transformation"
   ]
  },
  {
   "cell_type": "code",
   "execution_count": 15,
   "metadata": {},
   "outputs": [
    {
     "name": "stdout",
     "output_type": "stream",
     "text": [
      "TF-IDF on Kabita :  3882\n",
      "TF-IDF on Nisha :  4310\n"
     ]
    }
   ],
   "source": [
    "veck = TfidfVectorizer()\n",
    "veck.fit(kabikit['prep_text'])\n",
    "print(\"TF-IDF on Kabita : \",len(veck.vocabulary_))\n",
    "vecn = TfidfVectorizer()\n",
    "vecn.fit(nisha['prep_text'])\n",
    "print(\"TF-IDF on Nisha : \",len(vecn.vocabulary_))"
   ]
  },
  {
   "cell_type": "code",
   "execution_count": 16,
   "metadata": {},
   "outputs": [
    {
     "name": "stdout",
     "output_type": "stream",
     "text": [
      "(3920, 3882)\n",
      "(3920, 4310)\n"
     ]
    }
   ],
   "source": [
    "x_train_tfid = veck.transform(x_train)\n",
    "x_test_tfid = veck.transform(x_test)\n",
    "print(x_train_tfid.shape)\n",
    "x_ntrain_tfid = vecn.transform(x_ntrain)\n",
    "x_ntest_tfid = vecn.transform(x_ntest)\n",
    "print(x_ntrain_tfid.shape)"
   ]
  },
  {
   "cell_type": "code",
   "execution_count": 17,
   "metadata": {},
   "outputs": [
    {
     "name": "stderr",
     "output_type": "stream",
     "text": [
      "C:\\Users\\patel\\AppData\\Local\\Programs\\Python\\Python39\\lib\\site-packages\\sklearn\\utils\\deprecation.py:87: FutureWarning: Function get_feature_names is deprecated; get_feature_names is deprecated in 1.0 and will be removed in 1.2. Please use get_feature_names_out instead.\n",
      "  warnings.warn(msg, category=FutureWarning)\n"
     ]
    }
   ],
   "source": [
    "tfidfk = dict(zip(veck.get_feature_names(), veck.idf_))\n",
    "tfidfn = dict(zip(vecn.get_feature_names(), vecn.idf_))\n",
    "tfidfk = pd.DataFrame(columns=['tfidf']).from_dict(tfidfk, orient='index')\n",
    "tfidfn = pd.DataFrame(columns=['tfidf']).from_dict(tfidfn, orient='index')\n",
    "tfidfk.columns = ['tfidf']\n",
    "tfidfn.columns = ['tfidf']"
   ]
  },
  {
   "cell_type": "markdown",
   "metadata": {},
   "source": [
    "Naive Bayes Algorithm"
   ]
  },
  {
   "cell_type": "code",
   "execution_count": 18,
   "metadata": {},
   "outputs": [
    {
     "name": "stdout",
     "output_type": "stream",
     "text": [
      "              precision    recall  f1-score   support\n",
      "\n",
      "           0       0.84      0.71      0.77       140\n",
      "           1       0.83      0.71      0.76       140\n",
      "           2       0.75      0.81      0.78       140\n",
      "           3       0.72      0.73      0.72       140\n",
      "           4       0.54      0.69      0.60       140\n",
      "           5       0.61      0.44      0.51       140\n",
      "           6       0.71      0.86      0.78       140\n",
      "\n",
      "    accuracy                           0.71       980\n",
      "   macro avg       0.72      0.71      0.71       980\n",
      "weighted avg       0.72      0.71      0.71       980\n",
      "\n",
      "Naive Bayes Accuracy On kabikit :   0.7071428571428572\n"
     ]
    }
   ],
   "source": [
    "#on Kabita Data\n",
    "nb_clf = MultinomialNB()\n",
    "nb_clf.fit(x_train_tfid, y_train)\n",
    "y_pred = nb_clf.predict(x_test_tfid)\n",
    "print(classification_report(y_test, y_pred))\n",
    "print(\"Naive Bayes Accuracy On kabikit :  \",accuracy_score(y_test,y_pred))\n",
    "nb_k = accuracy_score(y_test,y_pred)"
   ]
  },
  {
   "cell_type": "code",
   "execution_count": 19,
   "metadata": {},
   "outputs": [
    {
     "name": "stdout",
     "output_type": "stream",
     "text": [
      "              precision    recall  f1-score   support\n",
      "\n",
      "           0       0.62      0.70      0.66       140\n",
      "           1       0.75      0.66      0.70       140\n",
      "           2       0.71      0.76      0.73       140\n",
      "           3       0.66      0.64      0.65       140\n",
      "           4       0.49      0.67      0.56       140\n",
      "           5       0.69      0.33      0.44       140\n",
      "           6       0.77      0.84      0.81       140\n",
      "\n",
      "    accuracy                           0.66       980\n",
      "   macro avg       0.67      0.66      0.65       980\n",
      "weighted avg       0.67      0.66      0.65       980\n",
      "\n",
      "Naive Bayes Accuracy On Nisha :   0.6581632653061225\n"
     ]
    }
   ],
   "source": [
    "#on Nisha Data\n",
    "nb_clfn = MultinomialNB()\n",
    "nb_clfn.fit(x_ntrain_tfid, y_ntrain)\n",
    "y_npred = nb_clfn.predict(x_ntest_tfid)\n",
    "print(classification_report(y_ntest, y_npred))\n",
    "print(\"Naive Bayes Accuracy On Nisha :  \",accuracy_score(y_ntest,y_npred))\n",
    "nb_n = accuracy_score(y_ntest,y_npred)"
   ]
  },
  {
   "cell_type": "markdown",
   "metadata": {},
   "source": [
    "SVM Model"
   ]
  },
  {
   "cell_type": "code",
   "execution_count": 20,
   "metadata": {},
   "outputs": [
    {
     "name": "stdout",
     "output_type": "stream",
     "text": [
      "              precision    recall  f1-score   support\n",
      "\n",
      "           0       0.88      0.76      0.82       140\n",
      "           1       0.81      0.75      0.78       140\n",
      "           2       0.85      0.86      0.86       140\n",
      "           3       0.71      0.66      0.68       140\n",
      "           4       0.80      0.59      0.68       140\n",
      "           5       0.46      0.71      0.56       140\n",
      "           6       0.77      0.76      0.76       140\n",
      "\n",
      "    accuracy                           0.73       980\n",
      "   macro avg       0.76      0.73      0.73       980\n",
      "weighted avg       0.76      0.73      0.73       980\n",
      "\n",
      "svm Accuracy on kabikit :  0.7285714285714285\n"
     ]
    }
   ],
   "source": [
    "#Kabita Data\n",
    "from sklearn import svm\n",
    "svm_clf = svm.SVC()\n",
    "svm_clf.fit(x_train_tfid,y_train)\n",
    "y_pred = svm_clf.predict(x_test_tfid)\n",
    "print(classification_report(y_test, y_pred))\n",
    "print(\"svm Accuracy on kabikit : \", accuracy_score(y_test,y_pred))\n",
    "svm_k = accuracy_score(y_test,y_pred)"
   ]
  },
  {
   "cell_type": "code",
   "execution_count": 21,
   "metadata": {},
   "outputs": [
    {
     "name": "stdout",
     "output_type": "stream",
     "text": [
      "              precision    recall  f1-score   support\n",
      "\n",
      "           0       0.86      0.69      0.76       140\n",
      "           1       0.79      0.76      0.78       140\n",
      "           2       0.87      0.82      0.85       140\n",
      "           3       0.63      0.68      0.66       140\n",
      "           4       0.65      0.55      0.60       140\n",
      "           5       0.51      0.79      0.62       140\n",
      "           6       0.84      0.69      0.76       140\n",
      "\n",
      "    accuracy                           0.71       980\n",
      "   macro avg       0.74      0.71      0.72       980\n",
      "weighted avg       0.74      0.71      0.72       980\n",
      "\n",
      "svm Accuracy on kabikit :  0.7112244897959183\n"
     ]
    }
   ],
   "source": [
    "#Nisha Data\n",
    "svm_clfn = svm.SVC()\n",
    "svm_clfn.fit(x_ntrain_tfid,y_train)\n",
    "y_npred = svm_clfn.predict(x_ntest_tfid)\n",
    "print(classification_report(y_ntest, y_npred))\n",
    "print(\"svm Accuracy on kabikit : \", accuracy_score(y_ntest,y_npred))\n",
    "svm_n = accuracy_score(y_ntest,y_pred)"
   ]
  },
  {
   "cell_type": "markdown",
   "metadata": {},
   "source": [
    "Random Forest Classifier"
   ]
  },
  {
   "cell_type": "code",
   "execution_count": 22,
   "metadata": {},
   "outputs": [
    {
     "name": "stdout",
     "output_type": "stream",
     "text": [
      "              precision    recall  f1-score   support\n",
      "\n",
      "           0       0.86      0.81      0.83       140\n",
      "           1       0.81      0.79      0.80       140\n",
      "           2       0.55      0.95      0.70       140\n",
      "           3       0.69      0.58      0.63       140\n",
      "           4       0.82      0.61      0.70       140\n",
      "           5       0.61      0.46      0.53       140\n",
      "           6       0.72      0.74      0.73       140\n",
      "\n",
      "    accuracy                           0.71       980\n",
      "   macro avg       0.72      0.71      0.70       980\n",
      "weighted avg       0.72      0.71      0.70       980\n",
      "\n",
      "Random Forest Classifier Accuracy on kabikit :  0.7051020408163265\n"
     ]
    }
   ],
   "source": [
    "#Kabita Data\n",
    "from sklearn.ensemble import RandomForestClassifier\n",
    "rf_clf = RandomForestClassifier()\n",
    "rf_clf.fit(x_train_tfid,y_train)\n",
    "y_pred = rf_clf.predict(x_test_tfid)\n",
    "print(classification_report(y_test, y_pred))\n",
    "print(\"Random Forest Classifier Accuracy on kabikit : \",accuracy_score(y_test,y_pred))\n",
    "rf_k = accuracy_score(y_test,y_pred)"
   ]
  },
  {
   "cell_type": "code",
   "execution_count": 23,
   "metadata": {},
   "outputs": [
    {
     "name": "stdout",
     "output_type": "stream",
     "text": [
      "              precision    recall  f1-score   support\n",
      "\n",
      "           0       0.75      0.76      0.75       140\n",
      "           1       0.76      0.76      0.76       140\n",
      "           2       0.62      0.91      0.74       140\n",
      "           3       0.61      0.61      0.61       140\n",
      "           4       0.70      0.49      0.57       140\n",
      "           5       0.55      0.50      0.52       140\n",
      "           6       0.83      0.76      0.79       140\n",
      "\n",
      "    accuracy                           0.68       980\n",
      "   macro avg       0.69      0.68      0.68       980\n",
      "weighted avg       0.69      0.68      0.68       980\n",
      "\n",
      "Random Forest Classifier Accuracy on kabikit :  0.6826530612244898\n"
     ]
    }
   ],
   "source": [
    "#Nisha Data\n",
    "rf_clfn = RandomForestClassifier()\n",
    "rf_clfn.fit(x_ntrain_tfid,y_train)\n",
    "y_npred = rf_clfn.predict(x_ntest_tfid)\n",
    "print(classification_report(y_ntest, y_npred))\n",
    "print(\"Random Forest Classifier Accuracy on kabikit : \",accuracy_score(y_ntest,y_npred))\n",
    "rf_n = accuracy_score(y_ntest,y_npred)"
   ]
  },
  {
   "cell_type": "markdown",
   "metadata": {},
   "source": [
    "Logistic Regression Model"
   ]
  },
  {
   "cell_type": "code",
   "execution_count": 24,
   "metadata": {},
   "outputs": [
    {
     "name": "stdout",
     "output_type": "stream",
     "text": [
      "              precision    recall  f1-score   support\n",
      "\n",
      "           0       0.88      0.82      0.85       140\n",
      "           1       0.81      0.76      0.78       140\n",
      "           2       0.87      0.83      0.85       140\n",
      "           3       0.73      0.68      0.70       140\n",
      "           4       0.82      0.54      0.65       140\n",
      "           5       0.49      0.74      0.59       140\n",
      "           6       0.73      0.76      0.75       140\n",
      "\n",
      "    accuracy                           0.73       980\n",
      "   macro avg       0.76      0.73      0.74       980\n",
      "weighted avg       0.76      0.73      0.74       980\n",
      "\n",
      "Logistic Regression Accuracy :  0.7336734693877551\n"
     ]
    }
   ],
   "source": [
    "#Kabita Data\n",
    "#from sklearn.linear_model import LogisticRegression\n",
    "lrk = LogisticRegression()\n",
    "lrk.fit(x_train_tfid,y_train)\n",
    "y_pred = lrk.predict(x_test_tfid)\n",
    "print(classification_report(y_test, y_pred))\n",
    "print(\"Logistic Regression Accuracy : \",accuracy_score(y_test,y_pred))\n",
    "lr_k = accuracy_score(y_test,y_pred)"
   ]
  },
  {
   "cell_type": "code",
   "execution_count": 25,
   "metadata": {},
   "outputs": [
    {
     "name": "stdout",
     "output_type": "stream",
     "text": [
      "              precision    recall  f1-score   support\n",
      "\n",
      "           0       0.82      0.74      0.78       140\n",
      "           1       0.75      0.72      0.74       140\n",
      "           2       0.78      0.77      0.78       140\n",
      "           3       0.62      0.64      0.63       140\n",
      "           4       0.69      0.50      0.58       140\n",
      "           5       0.50      0.75      0.60       140\n",
      "           6       0.84      0.74      0.78       140\n",
      "\n",
      "    accuracy                           0.69       980\n",
      "   macro avg       0.71      0.69      0.70       980\n",
      "weighted avg       0.71      0.69      0.70       980\n",
      "\n",
      "Logistic Regression Accuracy :  0.6948979591836735\n"
     ]
    }
   ],
   "source": [
    "#Nisha Data\n",
    "lrn = LogisticRegression()\n",
    "lrn.fit(x_ntrain_tfid,y_train)\n",
    "y_npred = lrn.predict(x_ntest_tfid)\n",
    "print(classification_report(y_ntest, y_npred))\n",
    "print(\"Logistic Regression Accuracy : \",accuracy_score(y_ntest,y_npred))\n",
    "lr_n = accuracy_score(y_ntest,y_npred)"
   ]
  },
  {
   "cell_type": "markdown",
   "metadata": {},
   "source": [
    "Plotting Accuracy Score"
   ]
  },
  {
   "cell_type": "code",
   "execution_count": 26,
   "metadata": {},
   "outputs": [
    {
     "data": {
      "image/png": "[encoded data removed]",
      "text/plain": [
       "<Figure size 432x288 with 1 Axes>"
      ]
     },
     "metadata": {
      "needs_background": "light"
     },
     "output_type": "display_data"
    }
   ],
   "source": [
    "kabikit_acc = {'Random Forest':rf_k*100, 'Naive Bayes':nb_k*100, 'SVM':svm_k*100, 'Logistic Regression':lr_k*100}\n",
    "nisha_acc = {'Random Forest':rf_n*100, 'Naive Bayes':nb_n*100, 'SVM':svm_n*100, 'Logistic Regression':lr_n*100}\n",
    "\n",
    "plt.bar(x=kabikit_acc.keys(),height=kabikit_acc.values(), color=['cyan','orange','yellow','grey'])\n",
    "plt.ylabel(\"Accuracy\")\n",
    "plt.title('Kabita Cooking Channel Data')\n",
    "plt.show()"
   ]
  },
  {
   "cell_type": "code",
   "execution_count": 27,
   "metadata": {},
   "outputs": [
    {
     "data": {
      "image/png": "[encoded data removed]",
      "text/plain": [
       "<Figure size 432x288 with 1 Axes>"
      ]
     },
     "metadata": {
      "needs_background": "light"
     },
     "output_type": "display_data"
    }
   ],
   "source": [
    "plt.bar(x=nisha_acc.keys(), height=nisha_acc.values(), color=['black','red','green','blue'])\n",
    "plt.title('Nisha Cooking Channel Data')\n",
    "plt.ylabel('Accuracy')\n",
    "plt.show()"
   ]
  },
  {
   "cell_type": "markdown",
   "metadata": {},
   "source": [
    "Word2vec Transformation"
   ]
  },
  {
   "cell_type": "code",
   "execution_count": 28,
   "metadata": {},
   "outputs": [],
   "source": [
    "text_k = [i.split() for i in kabikit['prep_text']]\n",
    "wvmodel_k = Word2Vec(text_k, min_count=1)\n",
    "w2v_k = {}\n",
    "for i in wvmodel_k.wv.index_to_key:\n",
    "    w2v_k[i] = wvmodel_k.wv.get_vector(i)"
   ]
  },
  {
   "cell_type": "code",
   "execution_count": 29,
   "metadata": {},
   "outputs": [],
   "source": [
    "text_n = [i.split() for i in nisha['prep_text']]\n",
    "wvmodel_n = Word2Vec(text_n, min_count=1)\n",
    "w2v_n = {}\n",
    "for i in wvmodel_n.wv.index_to_key:\n",
    "    w2v_k[i] = wvmodel_n.wv.get_vector(i)"
   ]
  },
  {
   "cell_type": "code",
   "execution_count": 30,
   "metadata": {},
   "outputs": [],
   "source": [
    "class MeanEmbeddingVectorizer(object):\n",
    "    def __init__(self, word2vec, w2v):\n",
    "        self.word2vec = word2vec\n",
    "        self.w2v = w2v\n",
    "        # if a text is empty we should return a vector of zeros\n",
    "        # with the same dimensionality as all the other vectors\n",
    "        self.dim = word2vec.vector_size\n",
    "\n",
    "    def fit(self, X, y):\n",
    "        return self\n",
    "\n",
    "    def transform(self, X):\n",
    "        return np.array([\n",
    "            np.mean([self.w2v[w] for w in words if w in self.w2v.keys()]\n",
    "                    or [np.zeros(self.dim)], axis=0)\n",
    "            for words in X\n",
    "        ])"
   ]
  },
  {
   "cell_type": "code",
   "execution_count": 31,
   "metadata": {},
   "outputs": [],
   "source": [
    "modelE = MeanEmbeddingVectorizer(wvmodel_k,w2v_k)\n",
    "x_train_vec = modelE.transform([nltk.word_tokenize(i) for i in x_train])\n",
    "x_test_vec = modelE.transform([nltk.word_tokenize(i) for i in x_test])"
   ]
  },
  {
   "cell_type": "code",
   "execution_count": 32,
   "metadata": {},
   "outputs": [],
   "source": [
    "modelEN = MeanEmbeddingVectorizer(wvmodel_n,w2v_n)\n",
    "x_train_vecn = modelEN.transform([nltk.word_tokenize(i) for i in x_train])\n",
    "x_test_vecn = modelEN.transform([nltk.word_tokenize(i) for i in x_test])"
   ]
  },
  {
   "cell_type": "markdown",
   "metadata": {},
   "source": [
    "Logistic Regression"
   ]
  },
  {
   "cell_type": "code",
   "execution_count": 33,
   "metadata": {},
   "outputs": [
    {
     "name": "stdout",
     "output_type": "stream",
     "text": [
      "              precision    recall  f1-score   support\n",
      "\n",
      "           0       0.28      0.51      0.36       140\n",
      "           1       0.27      0.22      0.24       140\n",
      "           2       0.63      0.52      0.57       140\n",
      "           3       0.20      0.15      0.17       140\n",
      "           4       0.53      0.06      0.11       140\n",
      "           5       0.29      0.60      0.39       140\n",
      "           6       0.44      0.25      0.32       140\n",
      "\n",
      "    accuracy                           0.33       980\n",
      "   macro avg       0.38      0.33      0.31       980\n",
      "weighted avg       0.38      0.33      0.31       980\n",
      "\n",
      "Logistic Regression Accuracy :  0.33163265306122447\n"
     ]
    }
   ],
   "source": [
    "#Kabita Data\n",
    "lrk = LogisticRegression()\n",
    "lrk.fit(x_train_vec,y_train)\n",
    "y_pred = lrk.predict(x_test_vec)\n",
    "print(classification_report(y_test, y_pred))\n",
    "print(\"Logistic Regression Accuracy : \",accuracy_score(y_test,y_pred))\n",
    "lr_vk = accuracy_score(y_test,y_pred)"
   ]
  },
  {
   "cell_type": "code",
   "execution_count": 34,
   "metadata": {},
   "outputs": [
    {
     "name": "stdout",
     "output_type": "stream",
     "text": [
      "              precision    recall  f1-score   support\n",
      "\n",
      "           0       0.00      0.00      0.00       140\n",
      "           1       0.00      0.00      0.00       140\n",
      "           2       0.00      0.00      0.00       140\n",
      "           3       0.00      0.00      0.00       140\n",
      "           4       0.00      0.00      0.00       140\n",
      "           5       0.14      1.00      0.25       140\n",
      "           6       0.00      0.00      0.00       140\n",
      "\n",
      "    accuracy                           0.14       980\n",
      "   macro avg       0.02      0.14      0.04       980\n",
      "weighted avg       0.02      0.14      0.04       980\n",
      "\n",
      "Logistic Regression Accuracy :  0.14285714285714285\n"
     ]
    },
    {
     "name": "stderr",
     "output_type": "stream",
     "text": [
      "C:\\Users\\patel\\AppData\\Local\\Programs\\Python\\Python39\\lib\\site-packages\\sklearn\\metrics\\_classification.py:1308: UndefinedMetricWarning: Precision and F-score are ill-defined and being set to 0.0 in labels with no predicted samples. Use `zero_division` parameter to control this behavior.\n",
      "  _warn_prf(average, modifier, msg_start, len(result))\n",
      "C:\\Users\\patel\\AppData\\Local\\Programs\\Python\\Python39\\lib\\site-packages\\sklearn\\metrics\\_classification.py:1308: UndefinedMetricWarning: Precision and F-score are ill-defined and being set to 0.0 in labels with no predicted samples. Use `zero_division` parameter to control this behavior.\n",
      "  _warn_prf(average, modifier, msg_start, len(result))\n",
      "C:\\Users\\patel\\AppData\\Local\\Programs\\Python\\Python39\\lib\\site-packages\\sklearn\\metrics\\_classification.py:1308: UndefinedMetricWarning: Precision and F-score are ill-defined and being set to 0.0 in labels with no predicted samples. Use `zero_division` parameter to control this behavior.\n",
      "  _warn_prf(average, modifier, msg_start, len(result))\n"
     ]
    }
   ],
   "source": [
    "#Nisha Data\n",
    "lrn = LogisticRegression()\n",
    "lrn.fit(x_train_vecn,y_train)\n",
    "y_npred = lrn.predict(x_test_vecn)\n",
    "print(classification_report(y_ntest, y_npred))\n",
    "print(\"Logistic Regression Accuracy : \",accuracy_score(y_ntest,y_npred))\n",
    "lr_vn = accuracy_score(y_ntest,y_npred)"
   ]
  },
  {
   "cell_type": "markdown",
   "metadata": {},
   "source": [
    "Random Forest Classifier"
   ]
  },
  {
   "cell_type": "code",
   "execution_count": 35,
   "metadata": {},
   "outputs": [
    {
     "name": "stdout",
     "output_type": "stream",
     "text": [
      "              precision    recall  f1-score   support\n",
      "\n",
      "           0       0.71      0.49      0.58       140\n",
      "           1       0.78      0.57      0.66       140\n",
      "           2       0.83      0.88      0.85       140\n",
      "           3       0.47      0.41      0.44       140\n",
      "           4       0.51      0.64      0.57       140\n",
      "           5       0.39      0.44      0.42       140\n",
      "           6       0.43      0.54      0.48       140\n",
      "\n",
      "    accuracy                           0.57       980\n",
      "   macro avg       0.59      0.57      0.57       980\n",
      "weighted avg       0.59      0.57      0.57       980\n",
      "\n",
      "Random Forest Classifier Accuracy on kabikit :  0.5683673469387756\n"
     ]
    }
   ],
   "source": [
    "#kabita Data\n",
    "rf_clf = RandomForestClassifier()\n",
    "rf_clf.fit(x_train_vec,y_train)\n",
    "y_pred = rf_clf.predict(x_test_vec)\n",
    "print(classification_report(y_test, y_pred))\n",
    "print(\"Random Forest Classifier Accuracy on kabikit : \",accuracy_score(y_test,y_pred))\n",
    "rf_vk = accuracy_score(y_test,y_pred)"
   ]
  },
  {
   "cell_type": "code",
   "execution_count": 36,
   "metadata": {},
   "outputs": [
    {
     "name": "stdout",
     "output_type": "stream",
     "text": [
      "              precision    recall  f1-score   support\n",
      "\n",
      "           0       0.00      0.00      0.00       140\n",
      "           1       0.00      0.00      0.00       140\n",
      "           2       0.00      0.00      0.00       140\n",
      "           3       0.00      0.00      0.00       140\n",
      "           4       0.14      1.00      0.25       140\n",
      "           5       0.00      0.00      0.00       140\n",
      "           6       0.00      0.00      0.00       140\n",
      "\n",
      "    accuracy                           0.14       980\n",
      "   macro avg       0.02      0.14      0.04       980\n",
      "weighted avg       0.02      0.14      0.04       980\n",
      "\n",
      "Random Forest Classifier Accuracy on nisha :  0.14285714285714285\n"
     ]
    },
    {
     "name": "stderr",
     "output_type": "stream",
     "text": [
      "C:\\Users\\patel\\AppData\\Local\\Programs\\Python\\Python39\\lib\\site-packages\\sklearn\\metrics\\_classification.py:1308: UndefinedMetricWarning: Precision and F-score are ill-defined and being set to 0.0 in labels with no predicted samples. Use `zero_division` parameter to control this behavior.\n",
      "  _warn_prf(average, modifier, msg_start, len(result))\n",
      "C:\\Users\\patel\\AppData\\Local\\Programs\\Python\\Python39\\lib\\site-packages\\sklearn\\metrics\\_classification.py:1308: UndefinedMetricWarning: Precision and F-score are ill-defined and being set to 0.0 in labels with no predicted samples. Use `zero_division` parameter to control this behavior.\n",
      "  _warn_prf(average, modifier, msg_start, len(result))\n",
      "C:\\Users\\patel\\AppData\\Local\\Programs\\Python\\Python39\\lib\\site-packages\\sklearn\\metrics\\_classification.py:1308: UndefinedMetricWarning: Precision and F-score are ill-defined and being set to 0.0 in labels with no predicted samples. Use `zero_division` parameter to control this behavior.\n",
      "  _warn_prf(average, modifier, msg_start, len(result))\n"
     ]
    }
   ],
   "source": [
    "#Nisha Data\n",
    "rf_clfn = RandomForestClassifier()\n",
    "rf_clfn.fit(x_train_vecn,y_train)\n",
    "y_npred = rf_clfn.predict(x_test_vecn)\n",
    "print(classification_report(y_ntest, y_npred))\n",
    "print(\"Random Forest Classifier Accuracy on nisha : \",accuracy_score(y_ntest,y_npred))\n",
    "rf_vn = accuracy_score(y_ntest,y_npred)"
   ]
  },
  {
   "cell_type": "markdown",
   "metadata": {},
   "source": [
    "SVM Model"
   ]
  },
  {
   "cell_type": "code",
   "execution_count": 37,
   "metadata": {},
   "outputs": [
    {
     "name": "stdout",
     "output_type": "stream",
     "text": [
      "              precision    recall  f1-score   support\n",
      "\n",
      "           0       0.66      0.31      0.42       140\n",
      "           1       0.49      0.41      0.44       140\n",
      "           2       0.96      0.48      0.64       140\n",
      "           3       0.23      0.11      0.15       140\n",
      "           4       0.30      0.54      0.39       140\n",
      "           5       0.43      0.34      0.38       140\n",
      "           6       0.30      0.66      0.42       140\n",
      "\n",
      "    accuracy                           0.41       980\n",
      "   macro avg       0.48      0.41      0.40       980\n",
      "weighted avg       0.48      0.41      0.40       980\n",
      "\n",
      "svm Accuracy on kabikit :  0.4051020408163265\n"
     ]
    }
   ],
   "source": [
    "#Kabita Data\n",
    "svm_clf = svm.SVC()\n",
    "svm_clf.fit(x_train_vec,y_train)\n",
    "y_pred = svm_clf.predict(x_test_vec)\n",
    "print(classification_report(y_test, y_pred))\n",
    "print(\"svm Accuracy on kabikit : \", accuracy_score(y_test,y_pred))\n",
    "svm_vk = accuracy_score(y_test,y_pred)"
   ]
  },
  {
   "cell_type": "code",
   "execution_count": 38,
   "metadata": {},
   "outputs": [
    {
     "name": "stdout",
     "output_type": "stream",
     "text": [
      "              precision    recall  f1-score   support\n",
      "\n",
      "           0       0.00      0.00      0.00       140\n",
      "           1       0.00      0.00      0.00       140\n",
      "           2       0.00      0.00      0.00       140\n",
      "           3       0.00      0.00      0.00       140\n",
      "           4       0.00      0.00      0.00       140\n",
      "           5       0.14      1.00      0.25       140\n",
      "           6       0.00      0.00      0.00       140\n",
      "\n",
      "    accuracy                           0.14       980\n",
      "   macro avg       0.02      0.14      0.04       980\n",
      "weighted avg       0.02      0.14      0.04       980\n",
      "\n",
      "svm Accuracy on nisha :  0.14285714285714285\n"
     ]
    },
    {
     "name": "stderr",
     "output_type": "stream",
     "text": [
      "C:\\Users\\patel\\AppData\\Local\\Programs\\Python\\Python39\\lib\\site-packages\\sklearn\\metrics\\_classification.py:1308: UndefinedMetricWarning: Precision and F-score are ill-defined and being set to 0.0 in labels with no predicted samples. Use `zero_division` parameter to control this behavior.\n",
      "  _warn_prf(average, modifier, msg_start, len(result))\n",
      "C:\\Users\\patel\\AppData\\Local\\Programs\\Python\\Python39\\lib\\site-packages\\sklearn\\metrics\\_classification.py:1308: UndefinedMetricWarning: Precision and F-score are ill-defined and being set to 0.0 in labels with no predicted samples. Use `zero_division` parameter to control this behavior.\n",
      "  _warn_prf(average, modifier, msg_start, len(result))\n",
      "C:\\Users\\patel\\AppData\\Local\\Programs\\Python\\Python39\\lib\\site-packages\\sklearn\\metrics\\_classification.py:1308: UndefinedMetricWarning: Precision and F-score are ill-defined and being set to 0.0 in labels with no predicted samples. Use `zero_division` parameter to control this behavior.\n",
      "  _warn_prf(average, modifier, msg_start, len(result))\n"
     ]
    }
   ],
   "source": [
    "#Nisha Data\n",
    "svm_clfn = svm.SVC()\n",
    "svm_clfn.fit(x_train_vecn,y_train)\n",
    "y_npred = svm_clfn.predict(x_test_vecn)\n",
    "print(classification_report(y_ntest, y_npred))\n",
    "print(\"svm Accuracy on nisha : \", accuracy_score(y_ntest,y_npred))\n",
    "svm_vn = accuracy_score(y_ntest,y_npred)"
   ]
  },
  {
   "cell_type": "markdown",
   "metadata": {},
   "source": [
    "Plotting Accuracy Score"
   ]
  },
  {
   "cell_type": "code",
   "execution_count": 39,
   "metadata": {},
   "outputs": [
    {
     "data": {
      "image/png": "[encoded data removed]",
      "text/plain": [
       "<Figure size 432x288 with 1 Axes>"
      ]
     },
     "metadata": {
      "needs_background": "light"
     },
     "output_type": "display_data"
    }
   ],
   "source": [
    "kabikit_vacc = {'Random Forest':rf_vk*100, 'SVM':svm_vk*100, 'Logistic Regression':lr_vk*100}\n",
    "nisha_vacc = {'Random Forest':rf_vn*100, 'SVM':svm_vn*100, 'Logistic Regression':lr_vn*100}\n",
    "\n",
    "plt.bar(x=kabikit_vacc.keys(),height=kabikit_vacc.values(), color=['cyan','orange','yellow','grey'])\n",
    "plt.ylabel(\"Accuracy\")\n",
    "plt.title('Kabita Cooking Channel Data and word2vec')\n",
    "plt.show()"
   ]
  },
  {
   "cell_type": "code",
   "execution_count": 40,
   "metadata": {},
   "outputs": [
    {
     "data": {
      "image/png": "[encoded data removed]",
      "text/plain": [
       "<Figure size 432x288 with 1 Axes>"
      ]
     },
     "metadata": {
      "needs_background": "light"
     },
     "output_type": "display_data"
    }
   ],
   "source": [
    "plt.bar(x=nisha_vacc.keys(),height=nisha_vacc.values(), color=['cyan','orange','yellow','grey'])\n",
    "plt.ylabel(\"Accuracy\")\n",
    "plt.title('Nisha Cooking Channel Data and word2vec')\n",
    "plt.show()"
   ]
  }
 ],
 "metadata": {
  "interpreter": {
   "hash": "1533ca2f2789208dfd16058be7603d8f81f0f91d740f97003427152e2fe26087"
  },
  "kernelspec": {
   "display_name": "Python 3.9.7 64-bit",
   "language": "python",
   "name": "python3"
  },
  "language_info": {
   "codemirror_mode": {
    "name": "ipython",
    "version": 3
   },
   "file_extension": ".py",
   "mimetype": "text/x-python",
   "name": "python",
   "nbconvert_exporter": "python",
   "pygments_lexer": "ipython3",
   "version": "3.9.7"
  },
  "orig_nbformat": 4
 },
 "nbformat": 4,
 "nbformat_minor": 2
}
