{
 "cells": [
  {
   "cell_type": "markdown",
   "metadata": {},
   "source": [
    "Importing Packages"
   ]
  },
  {
   "cell_type": "code",
   "execution_count": 197,
   "metadata": {},
   "outputs": [],
   "source": [
    "import pandas as pd\n",
    "import numpy as np\n",
    "import re\n",
    "import nltk\n",
    "from nltk.corpus import stopwords\n",
    "from sklearn.model_selection import train_test_split\n",
    "from matplotlib import pyplot as plt\n",
    "from gensim.models import Word2Vec\n",
    "import seaborn as sns\n",
    "from sklearn.feature_extraction.text import TfidfVectorizer\n",
    "from sklearn.linear_model import LogisticRegression\n",
    "from sklearn.naive_bayes import MultinomialNB, GaussianNB\n",
    "from sklearn.metrics import classification_report, accuracy_score, matthews_corrcoef, cohen_kappa_score\n",
    "from sklearn.metrics import f1_score"
   ]
  },
  {
   "cell_type": "markdown",
   "metadata": {},
   "source": [
    "Loading Data"
   ]
  },
  {
   "cell_type": "code",
   "execution_count": 198,
   "metadata": {},
   "outputs": [],
   "source": [
    "kabikit = pd.read_csv(\"data\\\\kabitakitchen.csv\", encoding='unicode-escape')\n",
    "nisha = pd.read_csv(\"data\\\\Nishafin.csv\")"
   ]
  },
  {
   "cell_type": "markdown",
   "metadata": {},
   "source": [
    "Pre-Processing"
   ]
  },
  {
   "cell_type": "code",
   "execution_count": 201,
   "metadata": {},
   "outputs": [],
   "source": [
    "def preprocess_input(text):\n",
    "    # remove smiley if any\n",
    "    emoji_pattern = re.compile(\"[\"\n",
    "        u\"\\U0001F600-\\U0001F64F\"  # emoticons\n",
    "        u\"\\U0001F300-\\U0001F5FF\"  # symbols & pictographs\n",
    "        u\"\\U0001F680-\\U0001F6FF\"  # transport & map symbols\n",
    "        u\"\\U0001F1E0-\\U0001F1FF\"  # flags (iOS)\n",
    "        u\"\\U0001F1F2-\\U0001F1F4\"  # Macau flag\n",
    "        u\"\\U0001F1E6-\\U0001F1FF\"  # flags\n",
    "        u\"\\U0001F600-\\U0001F64F\"\n",
    "        u\"\\U00002702-\\U000027B0\"\n",
    "        u\"\\U000024C2-\\U0001F251\"\n",
    "        u\"\\U0001f926-\\U0001f937\"\n",
    "        u\"\\U0001F1F2\"\n",
    "        u\"\\U0001F1F4\"\n",
    "        u\"\\U0001F620\"\n",
    "        u\"\\u200d\"\n",
    "        u\"\\u2640-\\u2642\"\n",
    "        \"]+\", flags=re.UNICODE)\n",
    "    \n",
    "    hin_stop = []\n",
    "    with open(\"data\\\\stop_hinglish.txt\",\"r\") as rd:\n",
    "        for line in rd.readlines():\n",
    "            hin_stop.append(line[:-1])\n",
    "            \n",
    "    text = emoji_pattern.sub(r'', text)\n",
    "    prep_text = text.lower()\n",
    "    \n",
    "    #remove hyperlinks\n",
    "    prep_text = re.sub(r'(https|http)?:\\/\\/(\\w|\\.|\\/|\\?|\\=|\\&|\\%)*\\b', '', prep_text)\n",
    "    #removing text inside ()\n",
    "    prep_text = re.sub(r'\\([^)]*\\)', '', prep_text)\n",
    "    #removing text inside []\n",
    "    prep_text = re.sub(r'\\{[^)]*\\}', '', prep_text)\n",
    "    #fetching alphabetic characters\n",
    "    prep_text = re.sub(\"[^a-zA-Z]\", \" \", prep_text)\n",
    "    #removing stop words\n",
    "    stopWEn = stopwords.words('english')\n",
    "    tokens = [w for w in prep_text.split() if not w in stopWEn] \n",
    "    fin_words = [w for w in tokens if not w in hin_stop]\n",
    "    #return \" \".join(prep_text.split())\n",
    "    return (\" \".join(fin_words)).strip()"
   ]
  },
  {
   "cell_type": "code",
   "execution_count": 202,
   "metadata": {},
   "outputs": [
    {
     "data": {
      "text/html": [
       "<div>\n",
       "<style scoped>\n",
       "    .dataframe tbody tr th:only-of-type {\n",
       "        vertical-align: middle;\n",
       "    }\n",
       "\n",
       "    .dataframe tbody tr th {\n",
       "        vertical-align: top;\n",
       "    }\n",
       "\n",
       "    .dataframe thead th {\n",
       "        text-align: right;\n",
       "    }\n",
       "</style>\n",
       "<table border=\"1\" class=\"dataframe\">\n",
       "  <thead>\n",
       "    <tr style=\"text-align: right;\">\n",
       "      <th></th>\n",
       "      <th>id</th>\n",
       "      <th>commentText</th>\n",
       "      <th>Labels</th>\n",
       "      <th>Encoded</th>\n",
       "      <th>prep_text</th>\n",
       "    </tr>\n",
       "  </thead>\n",
       "  <tbody>\n",
       "    <tr>\n",
       "      <th>0</th>\n",
       "      <td>Ugy_CBm-_CKA3YqrzcB4AaABAg</td>\n",
       "      <td>Pudina ptta nhi dalu to</td>\n",
       "      <td>6</td>\n",
       "      <td>1</td>\n",
       "      <td>pudina ptta dalu</td>\n",
       "    </tr>\n",
       "    <tr>\n",
       "      <th>1</th>\n",
       "      <td>Ugy9mx9nuTWJu4dRac14AaABAg</td>\n",
       "      <td>Chiken kacha tu ni rhy ga sis</td>\n",
       "      <td>6</td>\n",
       "      <td>1</td>\n",
       "      <td>chiken kacha ni rhy ga sis</td>\n",
       "    </tr>\n",
       "    <tr>\n",
       "      <th>2</th>\n",
       "      <td>Ugz8T2MKLYucL3dM9nh4AaABAg</td>\n",
       "      <td>Hello mam, I love your all recipes.... ðð...</td>\n",
       "      <td>3</td>\n",
       "      <td>0</td>\n",
       "      <td>mam love recipes ingredients easily available ...</td>\n",
       "    </tr>\n",
       "    <tr>\n",
       "      <th>3</th>\n",
       "      <td>Ugx_1cCjRbCaDgL0FLF4AaABAg</td>\n",
       "      <td>Its awesome recipe plzz make handi chicken in ...</td>\n",
       "      <td>1</td>\n",
       "      <td>0</td>\n",
       "      <td>awesome recipe plzz make handi chicken handi</td>\n",
       "    </tr>\n",
       "    <tr>\n",
       "      <th>4</th>\n",
       "      <td>UgzLhKVAJ6NN3nZXyjN4AaABAg</td>\n",
       "      <td>Yeh jo measurement hai.........kitne logon ke ...</td>\n",
       "      <td>6</td>\n",
       "      <td>1</td>\n",
       "      <td>measurement</td>\n",
       "    </tr>\n",
       "  </tbody>\n",
       "</table>\n",
       "</div>"
      ],
      "text/plain": [
       "                           id  \\\n",
       "0  Ugy_CBm-_CKA3YqrzcB4AaABAg   \n",
       "1  Ugy9mx9nuTWJu4dRac14AaABAg   \n",
       "2  Ugz8T2MKLYucL3dM9nh4AaABAg   \n",
       "3  Ugx_1cCjRbCaDgL0FLF4AaABAg   \n",
       "4  UgzLhKVAJ6NN3nZXyjN4AaABAg   \n",
       "\n",
       "                                         commentText  Labels  Encoded  \\\n",
       "0                            Pudina ptta nhi dalu to       6        1   \n",
       "1                      Chiken kacha tu ni rhy ga sis       6        1   \n",
       "2  Hello mam, I love your all recipes.... ðð...       3        0   \n",
       "3  Its awesome recipe plzz make handi chicken in ...       1        0   \n",
       "4  Yeh jo measurement hai.........kitne logon ke ...       6        1   \n",
       "\n",
       "                                           prep_text  \n",
       "0                                   pudina ptta dalu  \n",
       "1                         chiken kacha ni rhy ga sis  \n",
       "2  mam love recipes ingredients easily available ...  \n",
       "3       awesome recipe plzz make handi chicken handi  \n",
       "4                                        measurement  "
      ]
     },
     "execution_count": 202,
     "metadata": {},
     "output_type": "execute_result"
    }
   ],
   "source": [
    "kabikit['commentText'] = kabikit['commentText'].astype(str)\n",
    "kabikit['Labels'] = kabikit['Labels'].astype(int)\n",
    "kabikit['Labels'] = kabikit['Labels'].astype(int)\n",
    "kabikit['Labels'] = kabikit['Labels'].apply(lambda x : x-1)\n",
    "kabikit['prep_text'] = kabikit['commentText'].apply(preprocess_input)"
   ]
  },
  {
   "cell_type": "code",
   "execution_count": 203,
   "metadata": {},
   "outputs": [
    {
     "data": {
      "text/html": [
       "<div>\n",
       "<style scoped>\n",
       "    .dataframe tbody tr th:only-of-type {\n",
       "        vertical-align: middle;\n",
       "    }\n",
       "\n",
       "    .dataframe tbody tr th {\n",
       "        vertical-align: top;\n",
       "    }\n",
       "\n",
       "    .dataframe thead th {\n",
       "        text-align: right;\n",
       "    }\n",
       "</style>\n",
       "<table border=\"1\" class=\"dataframe\">\n",
       "  <thead>\n",
       "    <tr style=\"text-align: right;\">\n",
       "      <th></th>\n",
       "      <th>id</th>\n",
       "      <th>commentText</th>\n",
       "      <th>Labels</th>\n",
       "      <th>Encoded</th>\n",
       "      <th>prep_text</th>\n",
       "    </tr>\n",
       "  </thead>\n",
       "  <tbody>\n",
       "    <tr>\n",
       "      <th>0</th>\n",
       "      <td>Ugz7LQV0ZWpuNnjBaxJ4AaABAg</td>\n",
       "      <td>i  love potato ke prathe</td>\n",
       "      <td>1</td>\n",
       "      <td>0</td>\n",
       "      <td>love potato prathe</td>\n",
       "    </tr>\n",
       "    <tr>\n",
       "      <th>1</th>\n",
       "      <td>UgxvWJ_kJL2nePTkg2N4AaABAg</td>\n",
       "      <td>Wwaaaaaaaaaaaaaaaaaaaaaaaaaaaaaaaaaaaaaaaaaaaaaww</td>\n",
       "      <td>2</td>\n",
       "      <td>0</td>\n",
       "      <td>wwaaaaaaaaaaaaaaaaaaaaaaaaaaaaaaaaaaaaaaaaaaaaaww</td>\n",
       "    </tr>\n",
       "    <tr>\n",
       "      <th>2</th>\n",
       "      <td>UgxxeUmiH9f8XOZZWr14AaABAg</td>\n",
       "      <td>Nice</td>\n",
       "      <td>2</td>\n",
       "      <td>0</td>\n",
       "      <td>nice</td>\n",
       "    </tr>\n",
       "    <tr>\n",
       "      <th>3</th>\n",
       "      <td>Ugz-UPvwHMx4nSKVoCB4AaABAg</td>\n",
       "      <td>Wow Amazing</td>\n",
       "      <td>2</td>\n",
       "      <td>0</td>\n",
       "      <td>wow amazing</td>\n",
       "    </tr>\n",
       "    <tr>\n",
       "      <th>4</th>\n",
       "      <td>UgzfXhbesBABQzi4-m94AaABAg</td>\n",
       "      <td>Thank you madam</td>\n",
       "      <td>0</td>\n",
       "      <td>0</td>\n",
       "      <td>madam</td>\n",
       "    </tr>\n",
       "  </tbody>\n",
       "</table>\n",
       "</div>"
      ],
      "text/plain": [
       "                           id  \\\n",
       "0  Ugz7LQV0ZWpuNnjBaxJ4AaABAg   \n",
       "1  UgxvWJ_kJL2nePTkg2N4AaABAg   \n",
       "2  UgxxeUmiH9f8XOZZWr14AaABAg   \n",
       "3  Ugz-UPvwHMx4nSKVoCB4AaABAg   \n",
       "4  UgzfXhbesBABQzi4-m94AaABAg   \n",
       "\n",
       "                                         commentText  Labels  Encoded  \\\n",
       "0                           i  love potato ke prathe       1        0   \n",
       "1  Wwaaaaaaaaaaaaaaaaaaaaaaaaaaaaaaaaaaaaaaaaaaaaaww       2        0   \n",
       "2                                               Nice       2        0   \n",
       "3                                        Wow Amazing       2        0   \n",
       "4                                    Thank you madam       0        0   \n",
       "\n",
       "                                           prep_text  \n",
       "0                                 love potato prathe  \n",
       "1  wwaaaaaaaaaaaaaaaaaaaaaaaaaaaaaaaaaaaaaaaaaaaaaww  \n",
       "2                                               nice  \n",
       "3                                        wow amazing  \n",
       "4                                              madam  "
      ]
     },
     "execution_count": 203,
     "metadata": {},
     "output_type": "execute_result"
    }
   ],
   "source": [
    "nisha['commentText'] = nisha['commentText'].astype(str)\n",
    "nisha['Labels'] = nisha['Labels'].astype(int)\n",
    "nisha['Labels'] = nisha['Labels'].astype(int)\n",
    "nisha['Labels'] = nisha['Labels'].apply(lambda x : x-1)\n",
    "nisha['prep_text'] = nisha['commentText'].apply(preprocess_input)"
   ]
  },
  {
   "cell_type": "markdown",
   "metadata": {},
   "source": [
    "Spliting Data for training and testing"
   ]
  },
  {
   "cell_type": "code",
   "execution_count": 209,
   "metadata": {},
   "outputs": [],
   "source": [
    "\n",
    "trainD, testD= train_test_split(kabikit, test_size=0.2, random_state=50, stratify=kabikit['Labels'])\n",
    "trainDN, testDN= train_test_split(nisha, test_size=0.2, random_state=50, stratify=nisha['Labels'])\n"
   ]
  },
  {
   "cell_type": "code",
   "execution_count": 210,
   "metadata": {},
   "outputs": [],
   "source": [
    "x_train = trainD['prep_text']\n",
    "y_train = trainD['Labels']\n",
    "x_test = testD['prep_text']\n",
    "y_test = testD['Labels']\n",
    "\n",
    "x_ntrain = trainDN['prep_text']\n",
    "y_ntrain = trainDN['Labels']\n",
    "x_ntest = testDN['prep_text']\n",
    "y_ntest = testDN['Labels']"
   ]
  },
  {
   "cell_type": "markdown",
   "metadata": {},
   "source": [
    "TF-IDF Transformation"
   ]
  },
  {
   "cell_type": "code",
   "execution_count": 211,
   "metadata": {},
   "outputs": [
    {
     "name": "stdout",
     "output_type": "stream",
     "text": [
      "TF-IDF on Kabita :  4032\n",
      "TF-IDF on Nisha :  4469\n"
     ]
    }
   ],
   "source": [
    "veck = TfidfVectorizer()\n",
    "veck.fit(kabikit['prep_text'])\n",
    "print(\"TF-IDF on Kabita : \",len(veck.vocabulary_))\n",
    "vecn = TfidfVectorizer()\n",
    "vecn.fit(nisha['prep_text'])\n",
    "print(\"TF-IDF on Nisha : \",len(vecn.vocabulary_))"
   ]
  },
  {
   "cell_type": "code",
   "execution_count": 212,
   "metadata": {},
   "outputs": [
    {
     "name": "stdout",
     "output_type": "stream",
     "text": [
      "(3920, 4032)\n",
      "(3920, 4469)\n"
     ]
    }
   ],
   "source": [
    "x_train_tfid = veck.transform(x_train)\n",
    "x_test_tfid = veck.transform(x_test)\n",
    "print(x_train_tfid.shape)\n",
    "x_ntrain_tfid = vecn.transform(x_ntrain)\n",
    "x_ntest_tfid = vecn.transform(x_ntest)\n",
    "print(x_ntrain_tfid.shape)"
   ]
  },
  {
   "cell_type": "code",
   "execution_count": 213,
   "metadata": {},
   "outputs": [
    {
     "name": "stderr",
     "output_type": "stream",
     "text": [
      "C:\\Users\\patel\\AppData\\Local\\Programs\\Python\\Python310\\lib\\site-packages\\sklearn\\utils\\deprecation.py:87: FutureWarning: Function get_feature_names is deprecated; get_feature_names is deprecated in 1.0 and will be removed in 1.2. Please use get_feature_names_out instead.\n",
      "  warnings.warn(msg, category=FutureWarning)\n"
     ]
    }
   ],
   "source": [
    "tfidfk = dict(zip(veck.get_feature_names(), veck.idf_))\n",
    "tfidfn = dict(zip(vecn.get_feature_names(), vecn.idf_))\n",
    "tfidfk = pd.DataFrame(columns=['tfidf']).from_dict(tfidfk, orient='index')\n",
    "tfidfn = pd.DataFrame(columns=['tfidf']).from_dict(tfidfn, orient='index')\n",
    "tfidfk.columns = ['tfidf']\n",
    "tfidfn.columns = ['tfidf']"
   ]
  },
  {
   "cell_type": "markdown",
   "metadata": {},
   "source": [
    "Naive Bayes Algorithm"
   ]
  },
  {
   "cell_type": "code",
   "execution_count": 214,
   "metadata": {},
   "outputs": [
    {
     "name": "stdout",
     "output_type": "stream",
     "text": [
      "              precision    recall  f1-score   support\n",
      "\n",
      "           0       0.61      0.43      0.50       140\n",
      "           1       0.70      0.67      0.69       140\n",
      "           2       0.72      0.84      0.77       140\n",
      "           3       0.63      0.64      0.64       140\n",
      "           4       0.50      0.55      0.52       140\n",
      "           5       0.50      0.41      0.45       140\n",
      "           6       0.69      0.84      0.76       140\n",
      "\n",
      "    accuracy                           0.63       980\n",
      "   macro avg       0.62      0.63      0.62       980\n",
      "weighted avg       0.62      0.63      0.62       980\n",
      "\n",
      "Naive Bayes Accuracy On kabikit :   0.6275510204081632\n"
     ]
    }
   ],
   "source": [
    "#on Kabita Data\n",
    "nb_clf = MultinomialNB()\n",
    "nb_clf.fit(x_train_tfid, y_train)\n",
    "y_pred = nb_clf.predict(x_test_tfid)\n",
    "print(classification_report(y_test, y_pred))\n",
    "print(\"Naive Bayes Accuracy On kabikit :  \",accuracy_score(y_test,y_pred))\n",
    "nb_k = accuracy_score(y_test,y_pred)\n",
    "nb_k_mmc = matthews_corrcoef(y_test, y_pred)\n",
    "nb_k_k = cohen_kappa_score(y_test,y_pred)\n",
    "nb_k_f1 = f1_score(y_test,y_pred, average='weighted')"
   ]
  },
  {
   "cell_type": "code",
   "execution_count": 215,
   "metadata": {},
   "outputs": [
    {
     "name": "stdout",
     "output_type": "stream",
     "text": [
      "              precision    recall  f1-score   support\n",
      "\n",
      "           0       0.47      0.54      0.50       140\n",
      "           1       0.57      0.63      0.60       140\n",
      "           2       0.72      0.74      0.73       140\n",
      "           3       0.54      0.59      0.57       140\n",
      "           4       0.33      0.35      0.34       140\n",
      "           5       0.56      0.29      0.38       140\n",
      "           6       0.76      0.79      0.78       140\n",
      "\n",
      "    accuracy                           0.56       980\n",
      "   macro avg       0.56      0.56      0.56       980\n",
      "weighted avg       0.56      0.56      0.56       980\n",
      "\n",
      "Naive Bayes Accuracy On Nisha :   0.5622448979591836\n"
     ]
    }
   ],
   "source": [
    "#on Nisha Data\n",
    "nb_clfn = MultinomialNB()\n",
    "nb_clfn.fit(x_ntrain_tfid, y_ntrain)\n",
    "y_npred = nb_clfn.predict(x_ntest_tfid)\n",
    "print(classification_report(y_ntest, y_npred))\n",
    "print(\"Naive Bayes Accuracy On Nisha :  \",accuracy_score(y_ntest,y_npred))\n",
    "nb_n = accuracy_score(y_ntest,y_npred)\n",
    "nb_n_mcc = matthews_corrcoef(y_ntest,y_npred)\n",
    "nb_n_k = cohen_kappa_score(y_ntest,y_npred)\n",
    "nb_n_f1 = f1_score(y_ntest,y_npred, average='weighted')"
   ]
  },
  {
   "cell_type": "markdown",
   "metadata": {},
   "source": [
    "SVM Model"
   ]
  },
  {
   "cell_type": "code",
   "execution_count": 216,
   "metadata": {},
   "outputs": [
    {
     "name": "stdout",
     "output_type": "stream",
     "text": [
      "              precision    recall  f1-score   support\n",
      "\n",
      "           0       0.55      0.61      0.58       140\n",
      "           1       0.79      0.61      0.69       140\n",
      "           2       0.94      0.80      0.86       140\n",
      "           3       0.74      0.56      0.64       140\n",
      "           4       0.56      0.49      0.52       140\n",
      "           5       0.40      0.66      0.50       140\n",
      "           6       0.75      0.76      0.76       140\n",
      "\n",
      "    accuracy                           0.64       980\n",
      "   macro avg       0.68      0.64      0.65       980\n",
      "weighted avg       0.68      0.64      0.65       980\n",
      "\n",
      "svm Accuracy on kabikit :  0.6408163265306123\n"
     ]
    }
   ],
   "source": [
    "#Kabita Data\n",
    "from sklearn import svm\n",
    "svm_clf = svm.SVC()\n",
    "svm_clf.fit(x_train_tfid,y_train)\n",
    "y_pred = svm_clf.predict(x_test_tfid)\n",
    "print(classification_report(y_test, y_pred))\n",
    "print(\"svm Accuracy on kabikit : \", accuracy_score(y_test,y_pred))\n",
    "svm_k = accuracy_score(y_test,y_pred)\n",
    "svm_k_mmc = matthews_corrcoef(y_test,y_pred)\n",
    "svm_k_k = cohen_kappa_score(y_test,y_pred)\n",
    "svm_k_f1 = f1_score(y_test,y_pred, average='weighted')"
   ]
  },
  {
   "cell_type": "code",
   "execution_count": 217,
   "metadata": {},
   "outputs": [
    {
     "name": "stdout",
     "output_type": "stream",
     "text": [
      "              precision    recall  f1-score   support\n",
      "\n",
      "           0       0.57      0.49      0.52       140\n",
      "           1       0.73      0.64      0.68       140\n",
      "           2       0.92      0.71      0.80       140\n",
      "           3       0.56      0.55      0.55       140\n",
      "           4       0.43      0.39      0.41       140\n",
      "           5       0.42      0.73      0.53       140\n",
      "           6       0.80      0.69      0.74       140\n",
      "\n",
      "    accuracy                           0.60       980\n",
      "   macro avg       0.63      0.60      0.61       980\n",
      "weighted avg       0.63      0.60      0.61       980\n",
      "\n",
      "svm Accuracy on kabikit :  0.5989795918367347\n"
     ]
    }
   ],
   "source": [
    "#Nisha Data\n",
    "svm_clfn = svm.SVC()\n",
    "svm_clfn.fit(x_ntrain_tfid,y_ntrain)\n",
    "y_npred = svm_clfn.predict(x_ntest_tfid)\n",
    "print(classification_report(y_ntest, y_npred))\n",
    "print(\"svm Accuracy on kabikit : \", accuracy_score(y_ntest,y_npred))\n",
    "svm_n = accuracy_score(y_ntest,y_pred)\n",
    "svm_n_mcc = matthews_corrcoef(y_ntest,y_npred)\n",
    "svm_n_k = cohen_kappa_score(y_ntest,y_npred)\n",
    "svm_n_f1 = f1_score(y_ntest,y_npred, average='weighted')"
   ]
  },
  {
   "cell_type": "markdown",
   "metadata": {},
   "source": [
    "Random Forest Classifier"
   ]
  },
  {
   "cell_type": "code",
   "execution_count": 218,
   "metadata": {},
   "outputs": [
    {
     "name": "stdout",
     "output_type": "stream",
     "text": [
      "              precision    recall  f1-score   support\n",
      "\n",
      "           0       0.36      0.65      0.47       140\n",
      "           1       0.70      0.68      0.69       140\n",
      "           2       0.86      0.84      0.85       140\n",
      "           3       0.60      0.58      0.59       140\n",
      "           4       0.65      0.41      0.50       140\n",
      "           5       0.55      0.26      0.36       140\n",
      "           6       0.67      0.79      0.73       140\n",
      "\n",
      "    accuracy                           0.60       980\n",
      "   macro avg       0.63      0.60      0.60       980\n",
      "weighted avg       0.63      0.60      0.60       980\n",
      "\n",
      "Random Forest Classifier Accuracy on kabikit :  0.6020408163265306\n"
     ]
    }
   ],
   "source": [
    "#Kabita Data\n",
    "from sklearn.ensemble import RandomForestClassifier\n",
    "rf_clf = RandomForestClassifier()\n",
    "rf_clf.fit(x_train_tfid,y_train)\n",
    "y_pred = rf_clf.predict(x_test_tfid)\n",
    "print(classification_report(y_test, y_pred))\n",
    "print(\"Random Forest Classifier Accuracy on kabikit : \",accuracy_score(y_test,y_pred))\n",
    "rf_k = accuracy_score(y_test,y_pred)\n",
    "rf_k_mcc = matthews_corrcoef(y_test,y_pred)\n",
    "rf_k_k = cohen_kappa_score(y_test,y_pred)\n",
    "rf_k_f1 = f1_score(y_test,y_pred, average='weighted')"
   ]
  },
  {
   "cell_type": "code",
   "execution_count": 219,
   "metadata": {},
   "outputs": [
    {
     "name": "stdout",
     "output_type": "stream",
     "text": [
      "              precision    recall  f1-score   support\n",
      "\n",
      "           0       0.37      0.57      0.45       140\n",
      "           1       0.65      0.71      0.68       140\n",
      "           2       0.80      0.78      0.79       140\n",
      "           3       0.54      0.58      0.56       140\n",
      "           4       0.52      0.31      0.39       140\n",
      "           5       0.49      0.35      0.41       140\n",
      "           6       0.76      0.77      0.76       140\n",
      "\n",
      "    accuracy                           0.58       980\n",
      "   macro avg       0.59      0.58      0.58       980\n",
      "weighted avg       0.59      0.58      0.58       980\n",
      "\n",
      "Random Forest Classifier Accuracy on kabikit :  0.5816326530612245\n"
     ]
    }
   ],
   "source": [
    "#Nisha Data\n",
    "rf_clfn = RandomForestClassifier()\n",
    "rf_clfn.fit(x_ntrain_tfid,y_ntrain)\n",
    "y_npred = rf_clfn.predict(x_ntest_tfid)\n",
    "print(classification_report(y_ntest, y_npred))\n",
    "print(\"Random Forest Classifier Accuracy on kabikit : \",accuracy_score(y_ntest,y_npred))\n",
    "rf_n = accuracy_score(y_ntest,y_npred)\n",
    "rf_n_mcc = matthews_corrcoef(y_ntest,y_npred)\n",
    "rf_n_k = cohen_kappa_score(y_ntest,y_npred)\n",
    "rf_n_f1 = f1_score(y_ntest,y_npred, average='weighted')"
   ]
  },
  {
   "cell_type": "markdown",
   "metadata": {},
   "source": [
    "Logistic Regression Model"
   ]
  },
  {
   "cell_type": "code",
   "execution_count": 220,
   "metadata": {},
   "outputs": [
    {
     "name": "stdout",
     "output_type": "stream",
     "text": [
      "              precision    recall  f1-score   support\n",
      "\n",
      "           0       0.51      0.54      0.52       140\n",
      "           1       0.76      0.62      0.68       140\n",
      "           2       0.82      0.86      0.84       140\n",
      "           3       0.67      0.57      0.62       140\n",
      "           4       0.64      0.38      0.48       140\n",
      "           5       0.42      0.65      0.51       140\n",
      "           6       0.73      0.78      0.75       140\n",
      "\n",
      "    accuracy                           0.63       980\n",
      "   macro avg       0.65      0.63      0.63       980\n",
      "weighted avg       0.65      0.63      0.63       980\n",
      "\n",
      "Logistic Regression Accuracy :  0.6285714285714286\n"
     ]
    },
    {
     "name": "stderr",
     "output_type": "stream",
     "text": [
      "C:\\Users\\patel\\AppData\\Local\\Programs\\Python\\Python310\\lib\\site-packages\\sklearn\\linear_model\\_logistic.py:814: ConvergenceWarning: lbfgs failed to converge (status=1):\n",
      "STOP: TOTAL NO. of ITERATIONS REACHED LIMIT.\n",
      "\n",
      "Increase the number of iterations (max_iter) or scale the data as shown in:\n",
      "    https://scikit-learn.org/stable/modules/preprocessing.html\n",
      "Please also refer to the documentation for alternative solver options:\n",
      "    https://scikit-learn.org/stable/modules/linear_model.html#logistic-regression\n",
      "  n_iter_i = _check_optimize_result(\n"
     ]
    }
   ],
   "source": [
    "#Kabita Data\n",
    "#from sklearn.linear_model import LogisticRegression\n",
    "lrk = LogisticRegression()\n",
    "lrk.fit(x_train_tfid,y_train)\n",
    "y_pred = lrk.predict(x_test_tfid)\n",
    "print(classification_report(y_test, y_pred))\n",
    "print(\"Logistic Regression Accuracy : \",accuracy_score(y_test,y_pred))\n",
    "lr_k = accuracy_score(y_test,y_pred)\n",
    "lr_k_mcc = matthews_corrcoef(y_test,y_pred)\n",
    "lr_k_k = cohen_kappa_score(y_test,y_pred)\n",
    "lr_k_f1 = f1_score(y_test,y_pred, average='weighted')"
   ]
  },
  {
   "cell_type": "code",
   "execution_count": 221,
   "metadata": {},
   "outputs": [
    {
     "name": "stdout",
     "output_type": "stream",
     "text": [
      "              precision    recall  f1-score   support\n",
      "\n",
      "           0       0.47      0.44      0.46       140\n",
      "           1       0.60      0.62      0.61       140\n",
      "           2       0.77      0.75      0.76       140\n",
      "           3       0.57      0.54      0.55       140\n",
      "           4       0.42      0.26      0.32       140\n",
      "           5       0.36      0.56      0.44       140\n",
      "           6       0.77      0.72      0.75       140\n",
      "\n",
      "    accuracy                           0.56       980\n",
      "   macro avg       0.57      0.56      0.56       980\n",
      "weighted avg       0.57      0.56      0.56       980\n",
      "\n",
      "Logistic Regression Accuracy :  0.5571428571428572\n"
     ]
    },
    {
     "name": "stderr",
     "output_type": "stream",
     "text": [
      "C:\\Users\\patel\\AppData\\Local\\Programs\\Python\\Python310\\lib\\site-packages\\sklearn\\linear_model\\_logistic.py:814: ConvergenceWarning: lbfgs failed to converge (status=1):\n",
      "STOP: TOTAL NO. of ITERATIONS REACHED LIMIT.\n",
      "\n",
      "Increase the number of iterations (max_iter) or scale the data as shown in:\n",
      "    https://scikit-learn.org/stable/modules/preprocessing.html\n",
      "Please also refer to the documentation for alternative solver options:\n",
      "    https://scikit-learn.org/stable/modules/linear_model.html#logistic-regression\n",
      "  n_iter_i = _check_optimize_result(\n"
     ]
    }
   ],
   "source": [
    "#Nisha Data\n",
    "lrn = LogisticRegression()\n",
    "lrn.fit(x_ntrain_tfid,y_ntrain)\n",
    "y_npred = lrn.predict(x_ntest_tfid)\n",
    "print(classification_report(y_ntest, y_npred))\n",
    "print(\"Logistic Regression Accuracy : \",accuracy_score(y_ntest,y_npred))\n",
    "lr_n = accuracy_score(y_ntest,y_npred)\n",
    "lr_n_mcc = matthews_corrcoef(y_ntest,y_npred)\n",
    "lr_n_k = cohen_kappa_score(y_ntest,y_npred)\n",
    "lr_n_f1 = f1_score(y_ntest,y_npred, average='weighted')"
   ]
  },
  {
   "cell_type": "markdown",
   "metadata": {},
   "source": [
    "Evaluation of Tf-idf"
   ]
  },
  {
   "cell_type": "code",
   "execution_count": 222,
   "metadata": {},
   "outputs": [
    {
     "data": {
      "image/png": "[encoded data removed]",
      "text/plain": [
       "<Figure size 432x288 with 1 Axes>"
      ]
     },
     "metadata": {
      "needs_background": "light"
     },
     "output_type": "display_data"
    },
    {
     "data": {
      "image/png": "[encoded data removed]",
      "text/plain": [
       "<Figure size 432x288 with 1 Axes>"
      ]
     },
     "metadata": {
      "needs_background": "light"
     },
     "output_type": "display_data"
    },
    {
     "data": {
      "image/png": "[encoded data removed]",
      "text/plain": [
       "<Figure size 432x288 with 1 Axes>"
      ]
     },
     "metadata": {
      "needs_background": "light"
     },
     "output_type": "display_data"
    }
   ],
   "source": [
    "kabikit_acc = {'Random Forest':rf_k*100, 'Naive Bayes':nb_k*100, 'SVM':svm_k*100, 'Logistic Regression':lr_k*100}\n",
    "nisha_acc = {'Random Forest':rf_n*100, 'Naive Bayes':nb_n*100, 'SVM':svm_n*100, 'Logistic Regression':lr_n*100}\n",
    "\n",
    "kabikit_mcc = {'Random Forest':rf_k_mcc, 'Naive Bayes':nb_k_mmc, 'SVM': svm_k_mmc, 'Logistic Regression':lr_k_mcc}\n",
    "nisha_mcc = {'Random Forest':rf_n_mcc, 'Naive Bayes':nb_n_mcc, 'SVM':svm_n_mcc, 'Logistic Regression':lr_n_mcc}\n",
    "\n",
    "kabikit_k = {'Random Forest':rf_k_k, 'Naive Bayes':nb_k_k, 'SVM': svm_k_k, 'Logistic Regression':lr_k_k}\n",
    "nisha_k = {'Random Forest':rf_n_k, 'Naive Bayes':nb_n_k, 'SVM':svm_n_k, 'Logistic Regression':lr_n_k}\n",
    "\n",
    "plt.bar(x=kabikit_acc.keys(),height=kabikit_acc.values(), color=['cyan','orange','yellow','grey'])\n",
    "plt.ylabel(\"Accuracy\")\n",
    "plt.title('Kabita Cooking Channel Data')\n",
    "plt.show()\n",
    "\n",
    "plt.bar(x=kabikit_mcc.keys(), height=kabikit_mcc.values(), color = ['orange','yellow','cyan','blue'])\n",
    "plt.ylabel(\"MCC Score\")\n",
    "plt.title('Kabita Cooking Channel Data')\n",
    "plt.show()\n",
    "\n",
    "plt.bar(x=kabikit_k.keys(), height=kabikit_k.values(), color = ['yellow','cyan','blue','red'])\n",
    "plt.ylabel(\"Cohen Kappa Score\")\n",
    "plt.title('Kabita Cooking Channel Data')\n",
    "plt.show()"
   ]
  },
  {
   "cell_type": "code",
   "execution_count": 223,
   "metadata": {},
   "outputs": [
    {
     "data": {
      "image/png": "[encoded data removed]",
      "text/plain": [
       "<Figure size 432x288 with 1 Axes>"
      ]
     },
     "metadata": {
      "needs_background": "light"
     },
     "output_type": "display_data"
    },
    {
     "data": {
      "image/png": "[encoded data removed]",
      "text/plain": [
       "<Figure size 432x288 with 1 Axes>"
      ]
     },
     "metadata": {
      "needs_background": "light"
     },
     "output_type": "display_data"
    },
    {
     "data": {
      "image/png": "[encoded data removed]",
      "text/plain": [
       "<Figure size 432x288 with 1 Axes>"
      ]
     },
     "metadata": {
      "needs_background": "light"
     },
     "output_type": "display_data"
    }
   ],
   "source": [
    "plt.bar(x=nisha_acc.keys(), height=nisha_acc.values(), color=['black','red','green','blue'])\n",
    "plt.title('Nisha Cooking Channel Data')\n",
    "plt.ylabel('Accuracy')\n",
    "plt.show()\n",
    "\n",
    "plt.bar(x=nisha_mcc.keys(), height=nisha_mcc.values(), color = ['orange','yellow','cyan','blue'])\n",
    "plt.ylabel(\"MCC Score\")\n",
    "plt.title('Nisha Cooking Channel Data')\n",
    "plt.show()\n",
    "\n",
    "plt.bar(x=nisha_k.keys(), height=nisha_k.values(), color = ['yellow','cyan','blue','red'])\n",
    "plt.ylabel(\"Cohen Kappa Score\")\n",
    "plt.title('nisha Cooking Channel Data')\n",
    "plt.show()"
   ]
  },
  {
   "cell_type": "markdown",
   "metadata": {},
   "source": [
    "Word2vec Transformation"
   ]
  },
  {
   "cell_type": "code",
   "execution_count": 224,
   "metadata": {},
   "outputs": [],
   "source": [
    "text_k = [i.split() for i in kabikit['prep_text']]\n",
    "wvmodel_k = Word2Vec(text_k, min_count=1, vector_size=100, epochs=20, window=3)\n",
    "w2v_k = {}\n",
    "for i in wvmodel_k.wv.index_to_key:\n",
    "    w2v_k[i] = wvmodel_k.wv.get_vector(i)"
   ]
  },
  {
   "cell_type": "code",
   "execution_count": 225,
   "metadata": {},
   "outputs": [],
   "source": [
    "text_n = [i.split() for i in nisha['prep_text']]\n",
    "wvmodel_n = Word2Vec(text_n, min_count=1)\n",
    "w2v_n = {}\n",
    "for i in wvmodel_n.wv.index_to_key:\n",
    "    w2v_k[i] = wvmodel_n.wv.get_vector(i)"
   ]
  },
  {
   "cell_type": "code",
   "execution_count": 226,
   "metadata": {},
   "outputs": [],
   "source": [
    "class MeanEmbeddingVectorizer(object):\n",
    "    def __init__(self, word2vec, w2v):\n",
    "        self.word2vec = word2vec\n",
    "        self.w2v = w2v\n",
    "        # if a text is empty we should return a vector of zeros\n",
    "        # with the same dimensionality as all the other vectors\n",
    "        self.dim = word2vec.vector_size\n",
    "\n",
    "    def fit(self, X, y):\n",
    "        return self\n",
    "\n",
    "    def transform(self, X):\n",
    "        return np.array([\n",
    "            np.mean([self.w2v[w] for w in words if w in self.w2v.keys()]\n",
    "                    or [np.zeros(self.dim)], axis=0)\n",
    "            for words in X\n",
    "        ])"
   ]
  },
  {
   "cell_type": "code",
   "execution_count": 227,
   "metadata": {},
   "outputs": [],
   "source": [
    "modelE = MeanEmbeddingVectorizer(wvmodel_k,w2v_k)\n",
    "x_train_vec = modelE.transform([nltk.word_tokenize(i) for i in x_train])\n",
    "x_test_vec = modelE.transform([nltk.word_tokenize(i) for i in x_test])"
   ]
  },
  {
   "cell_type": "code",
   "execution_count": 228,
   "metadata": {},
   "outputs": [],
   "source": [
    "modelEN = MeanEmbeddingVectorizer(wvmodel_n,w2v_n)\n",
    "x_train_vecn = modelEN.transform([nltk.word_tokenize(i) for i in x_train])\n",
    "x_test_vecn = modelEN.transform([nltk.word_tokenize(i) for i in x_test])"
   ]
  },
  {
   "cell_type": "markdown",
   "metadata": {},
   "source": [
    "Logistic Regression"
   ]
  },
  {
   "cell_type": "code",
   "execution_count": 229,
   "metadata": {},
   "outputs": [
    {
     "name": "stdout",
     "output_type": "stream",
     "text": [
      "              precision    recall  f1-score   support\n",
      "\n",
      "           0       0.24      0.13      0.17       140\n",
      "           1       0.27      0.61      0.37       140\n",
      "           2       0.46      0.61      0.53       140\n",
      "           3       0.55      0.04      0.08       140\n",
      "           4       0.30      0.09      0.14       140\n",
      "           5       0.33      0.58      0.42       140\n",
      "           6       0.43      0.34      0.38       140\n",
      "\n",
      "    accuracy                           0.34       980\n",
      "   macro avg       0.37      0.34      0.30       980\n",
      "weighted avg       0.37      0.34      0.30       980\n",
      "\n",
      "Logistic Regression Accuracy :  0.34183673469387754\n"
     ]
    },
    {
     "name": "stderr",
     "output_type": "stream",
     "text": [
      "C:\\Users\\patel\\AppData\\Local\\Programs\\Python\\Python310\\lib\\site-packages\\sklearn\\linear_model\\_logistic.py:814: ConvergenceWarning: lbfgs failed to converge (status=1):\n",
      "STOP: TOTAL NO. of ITERATIONS REACHED LIMIT.\n",
      "\n",
      "Increase the number of iterations (max_iter) or scale the data as shown in:\n",
      "    https://scikit-learn.org/stable/modules/preprocessing.html\n",
      "Please also refer to the documentation for alternative solver options:\n",
      "    https://scikit-learn.org/stable/modules/linear_model.html#logistic-regression\n",
      "  n_iter_i = _check_optimize_result(\n"
     ]
    }
   ],
   "source": [
    "#Kabita Data\n",
    "lrk = LogisticRegression()\n",
    "lrk.fit(x_train_vec,y_train)\n",
    "y_pred = lrk.predict(x_test_vec)\n",
    "print(classification_report(y_test, y_pred))\n",
    "print(\"Logistic Regression Accuracy : \",accuracy_score(y_test,y_pred))\n",
    "lr_vk = accuracy_score(y_test,y_pred)\n",
    "lr_k_mcc = matthews_corrcoef(y_test,y_pred)\n",
    "lr_k_k = cohen_kappa_score(y_test,y_pred)\n",
    "lr_k_f1 = f1_score(y_test,y_pred, average='weighted')"
   ]
  },
  {
   "cell_type": "code",
   "execution_count": 230,
   "metadata": {},
   "outputs": [
    {
     "name": "stdout",
     "output_type": "stream",
     "text": [
      "              precision    recall  f1-score   support\n",
      "\n",
      "           0       0.14      1.00      0.25       140\n",
      "           1       0.00      0.00      0.00       140\n",
      "           2       0.00      0.00      0.00       140\n",
      "           3       0.00      0.00      0.00       140\n",
      "           4       0.00      0.00      0.00       140\n",
      "           5       0.00      0.00      0.00       140\n",
      "           6       0.00      0.00      0.00       140\n",
      "\n",
      "    accuracy                           0.14       980\n",
      "   macro avg       0.02      0.14      0.04       980\n",
      "weighted avg       0.02      0.14      0.04       980\n",
      "\n",
      "Logistic Regression Accuracy :  0.14285714285714285\n"
     ]
    },
    {
     "name": "stderr",
     "output_type": "stream",
     "text": [
      "C:\\Users\\patel\\AppData\\Local\\Programs\\Python\\Python310\\lib\\site-packages\\sklearn\\metrics\\_classification.py:1318: UndefinedMetricWarning: Precision and F-score are ill-defined and being set to 0.0 in labels with no predicted samples. Use `zero_division` parameter to control this behavior.\n",
      "  _warn_prf(average, modifier, msg_start, len(result))\n",
      "C:\\Users\\patel\\AppData\\Local\\Programs\\Python\\Python310\\lib\\site-packages\\sklearn\\metrics\\_classification.py:1318: UndefinedMetricWarning: Precision and F-score are ill-defined and being set to 0.0 in labels with no predicted samples. Use `zero_division` parameter to control this behavior.\n",
      "  _warn_prf(average, modifier, msg_start, len(result))\n",
      "C:\\Users\\patel\\AppData\\Local\\Programs\\Python\\Python310\\lib\\site-packages\\sklearn\\metrics\\_classification.py:1318: UndefinedMetricWarning: Precision and F-score are ill-defined and being set to 0.0 in labels with no predicted samples. Use `zero_division` parameter to control this behavior.\n",
      "  _warn_prf(average, modifier, msg_start, len(result))\n"
     ]
    }
   ],
   "source": [
    "#Nisha Data\n",
    "lrn = LogisticRegression()\n",
    "lrn.fit(x_train_vecn,y_ntrain)\n",
    "y_npred = lrn.predict(x_test_vecn)\n",
    "print(classification_report(y_ntest, y_npred))\n",
    "print(\"Logistic Regression Accuracy : \",accuracy_score(y_ntest,y_npred))\n",
    "lr_vn = accuracy_score(y_ntest,y_npred)\n",
    "lr_n_mcc = matthews_corrcoef(y_ntest,y_npred)\n",
    "lr_n_k = cohen_kappa_score(y_ntest,y_npred)\n",
    "lr_n_f1 = f1_score(y_ntest,y_npred, average='weighted')"
   ]
  },
  {
   "cell_type": "markdown",
   "metadata": {},
   "source": [
    "Naive Bayes"
   ]
  },
  {
   "cell_type": "code",
   "execution_count": 231,
   "metadata": {},
   "outputs": [
    {
     "name": "stdout",
     "output_type": "stream",
     "text": [
      "              precision    recall  f1-score   support\n",
      "\n",
      "           0       0.28      0.19      0.23       140\n",
      "           1       0.49      0.12      0.19       140\n",
      "           2       0.75      0.46      0.57       140\n",
      "           3       0.33      0.01      0.03       140\n",
      "           4       0.23      0.52      0.32       140\n",
      "           5       0.35      0.44      0.39       140\n",
      "           6       0.27      0.53      0.36       140\n",
      "\n",
      "    accuracy                           0.33       980\n",
      "   macro avg       0.39      0.33      0.30       980\n",
      "weighted avg       0.39      0.33      0.30       980\n",
      "\n"
     ]
    }
   ],
   "source": [
    "#Kabita Data\n",
    "nbv = GaussianNB()\n",
    "nbv.fit(x_train_vec,y_train)\n",
    "y_pred = nbv.predict(x_test_vec)\n",
    "print(classification_report(y_test,y_pred))\n",
    "nbv_vk = accuracy_score(y_test,y_pred)\n",
    "nbv_k_mcc = matthews_corrcoef(y_test,y_pred)\n",
    "nbv_k_k = cohen_kappa_score(y_test,y_pred)\n",
    "nbv_k_f1 = f1_score(y_test,y_pred, average='weighted')"
   ]
  },
  {
   "cell_type": "code",
   "execution_count": 232,
   "metadata": {},
   "outputs": [
    {
     "name": "stdout",
     "output_type": "stream",
     "text": [
      "              precision    recall  f1-score   support\n",
      "\n",
      "           0       0.00      0.00      0.00       140\n",
      "           1       0.00      0.00      0.00       140\n",
      "           2       0.00      0.00      0.00       140\n",
      "           3       0.00      0.00      0.00       140\n",
      "           4       0.00      0.00      0.00       140\n",
      "           5       0.14      1.00      0.25       140\n",
      "           6       0.00      0.00      0.00       140\n",
      "\n",
      "    accuracy                           0.14       980\n",
      "   macro avg       0.02      0.14      0.04       980\n",
      "weighted avg       0.02      0.14      0.04       980\n",
      "\n"
     ]
    },
    {
     "name": "stderr",
     "output_type": "stream",
     "text": [
      "C:\\Users\\patel\\AppData\\Local\\Programs\\Python\\Python310\\lib\\site-packages\\sklearn\\metrics\\_classification.py:1318: UndefinedMetricWarning: Precision and F-score are ill-defined and being set to 0.0 in labels with no predicted samples. Use `zero_division` parameter to control this behavior.\n",
      "  _warn_prf(average, modifier, msg_start, len(result))\n",
      "C:\\Users\\patel\\AppData\\Local\\Programs\\Python\\Python310\\lib\\site-packages\\sklearn\\metrics\\_classification.py:1318: UndefinedMetricWarning: Precision and F-score are ill-defined and being set to 0.0 in labels with no predicted samples. Use `zero_division` parameter to control this behavior.\n",
      "  _warn_prf(average, modifier, msg_start, len(result))\n",
      "C:\\Users\\patel\\AppData\\Local\\Programs\\Python\\Python310\\lib\\site-packages\\sklearn\\metrics\\_classification.py:1318: UndefinedMetricWarning: Precision and F-score are ill-defined and being set to 0.0 in labels with no predicted samples. Use `zero_division` parameter to control this behavior.\n",
      "  _warn_prf(average, modifier, msg_start, len(result))\n"
     ]
    }
   ],
   "source": [
    "#Nisha Data\n",
    "nbv = GaussianNB()\n",
    "nbv.fit(x_train_vec,y_ntrain)\n",
    "y_npred = nbv.predict(x_test_vecn)\n",
    "print(classification_report(y_ntest,y_npred))\n",
    "nbv_vn = accuracy_score(y_ntest,y_npred)\n",
    "nbv_n_mcc = matthews_corrcoef(y_ntest,y_npred)\n",
    "nbv_n_k = cohen_kappa_score(y_ntest,y_npred)\n",
    "nbv_n_f1 = f1_score(y_ntest,y_npred, average='weighted')"
   ]
  },
  {
   "cell_type": "markdown",
   "metadata": {},
   "source": [
    "Random Forest Classifier"
   ]
  },
  {
   "cell_type": "code",
   "execution_count": 233,
   "metadata": {},
   "outputs": [
    {
     "name": "stdout",
     "output_type": "stream",
     "text": [
      "              precision    recall  f1-score   support\n",
      "\n",
      "           0       0.44      0.37      0.40       140\n",
      "           1       0.64      0.55      0.59       140\n",
      "           2       0.93      0.80      0.86       140\n",
      "           3       0.46      0.48      0.47       140\n",
      "           4       0.33      0.44      0.38       140\n",
      "           5       0.40      0.41      0.40       140\n",
      "           6       0.49      0.52      0.51       140\n",
      "\n",
      "    accuracy                           0.51       980\n",
      "   macro avg       0.53      0.51      0.52       980\n",
      "weighted avg       0.53      0.51      0.52       980\n",
      "\n",
      "Random Forest Classifier Accuracy on kabikit :  0.5091836734693878\n"
     ]
    }
   ],
   "source": [
    "#kabita Data\n",
    "rf_clf = RandomForestClassifier()\n",
    "rf_clf.fit(x_train_vec,y_train)\n",
    "y_pred = rf_clf.predict(x_test_vec)\n",
    "print(classification_report(y_test, y_pred))\n",
    "print(\"Random Forest Classifier Accuracy on kabikit : \",accuracy_score(y_test,y_pred))\n",
    "rf_vk = accuracy_score(y_test,y_pred)\n",
    "rf_k_mcc = matthews_corrcoef(y_test,y_pred)\n",
    "rf_k_k = cohen_kappa_score(y_test,y_pred)\n",
    "rf_k_f1 = f1_score(y_test,y_pred, average='weighted')"
   ]
  },
  {
   "cell_type": "code",
   "execution_count": 234,
   "metadata": {},
   "outputs": [
    {
     "name": "stdout",
     "output_type": "stream",
     "text": [
      "              precision    recall  f1-score   support\n",
      "\n",
      "           0       0.14      1.00      0.25       140\n",
      "           1       0.00      0.00      0.00       140\n",
      "           2       0.00      0.00      0.00       140\n",
      "           3       0.00      0.00      0.00       140\n",
      "           4       0.00      0.00      0.00       140\n",
      "           5       0.00      0.00      0.00       140\n",
      "           6       0.00      0.00      0.00       140\n",
      "\n",
      "    accuracy                           0.14       980\n",
      "   macro avg       0.02      0.14      0.04       980\n",
      "weighted avg       0.02      0.14      0.04       980\n",
      "\n",
      "Random Forest Classifier Accuracy on nisha :  0.14285714285714285\n"
     ]
    },
    {
     "name": "stderr",
     "output_type": "stream",
     "text": [
      "C:\\Users\\patel\\AppData\\Local\\Programs\\Python\\Python310\\lib\\site-packages\\sklearn\\metrics\\_classification.py:1318: UndefinedMetricWarning: Precision and F-score are ill-defined and being set to 0.0 in labels with no predicted samples. Use `zero_division` parameter to control this behavior.\n",
      "  _warn_prf(average, modifier, msg_start, len(result))\n",
      "C:\\Users\\patel\\AppData\\Local\\Programs\\Python\\Python310\\lib\\site-packages\\sklearn\\metrics\\_classification.py:1318: UndefinedMetricWarning: Precision and F-score are ill-defined and being set to 0.0 in labels with no predicted samples. Use `zero_division` parameter to control this behavior.\n",
      "  _warn_prf(average, modifier, msg_start, len(result))\n",
      "C:\\Users\\patel\\AppData\\Local\\Programs\\Python\\Python310\\lib\\site-packages\\sklearn\\metrics\\_classification.py:1318: UndefinedMetricWarning: Precision and F-score are ill-defined and being set to 0.0 in labels with no predicted samples. Use `zero_division` parameter to control this behavior.\n",
      "  _warn_prf(average, modifier, msg_start, len(result))\n"
     ]
    }
   ],
   "source": [
    "#Nisha Data\n",
    "rf_clfn = RandomForestClassifier()\n",
    "rf_clfn.fit(x_train_vecn,y_ntrain)\n",
    "y_npred = rf_clfn.predict(x_test_vecn)\n",
    "print(classification_report(y_ntest, y_npred))\n",
    "print(\"Random Forest Classifier Accuracy on nisha : \",accuracy_score(y_ntest,y_npred))\n",
    "rf_vn = accuracy_score(y_ntest,y_npred)\n",
    "rf_n_mcc = matthews_corrcoef(y_ntest,y_npred)\n",
    "rf_n_k = cohen_kappa_score(y_ntest,y_npred)\n",
    "rf_n_f1 = f1_score(y_ntest,y_pred, average='weighted')"
   ]
  },
  {
   "cell_type": "markdown",
   "metadata": {},
   "source": [
    "SVM Model"
   ]
  },
  {
   "cell_type": "code",
   "execution_count": 235,
   "metadata": {},
   "outputs": [
    {
     "name": "stdout",
     "output_type": "stream",
     "text": [
      "              precision    recall  f1-score   support\n",
      "\n",
      "           0       0.45      0.12      0.19       140\n",
      "           1       0.25      0.61      0.36       140\n",
      "           2       0.76      0.59      0.66       140\n",
      "           3       0.10      0.01      0.02       140\n",
      "           4       0.37      0.21      0.27       140\n",
      "           5       0.37      0.50      0.42       140\n",
      "           6       0.35      0.51      0.42       140\n",
      "\n",
      "    accuracy                           0.37       980\n",
      "   macro avg       0.38      0.37      0.34       980\n",
      "weighted avg       0.38      0.37      0.34       980\n",
      "\n",
      "svm Accuracy on kabikit :  0.3663265306122449\n"
     ]
    }
   ],
   "source": [
    "#Kabita Data\n",
    "svm_clf = svm.SVC()\n",
    "svm_clf.fit(x_train_vec,y_train)\n",
    "y_pred = svm_clf.predict(x_test_vec)\n",
    "print(classification_report(y_test, y_pred))\n",
    "print(\"svm Accuracy on kabikit : \", accuracy_score(y_test,y_pred))\n",
    "svm_vk = accuracy_score(y_test,y_pred)\n",
    "svm_k_mcc = matthews_corrcoef(y_test,y_pred)\n",
    "svm_k_k = cohen_kappa_score(y_test,y_pred)\n",
    "svm_k_f1 = f1_score(y_test,y_pred, average='weighted')"
   ]
  },
  {
   "cell_type": "code",
   "execution_count": 236,
   "metadata": {},
   "outputs": [
    {
     "name": "stdout",
     "output_type": "stream",
     "text": [
      "              precision    recall  f1-score   support\n",
      "\n",
      "           0       0.00      0.00      0.00       140\n",
      "           1       0.00      0.00      0.00       140\n",
      "           2       0.00      0.00      0.00       140\n",
      "           3       0.00      0.00      0.00       140\n",
      "           4       0.00      0.00      0.00       140\n",
      "           5       0.00      0.00      0.00       140\n",
      "           6       0.14      1.00      0.25       140\n",
      "\n",
      "    accuracy                           0.14       980\n",
      "   macro avg       0.02      0.14      0.04       980\n",
      "weighted avg       0.02      0.14      0.04       980\n",
      "\n",
      "svm Accuracy on nisha :  0.14285714285714285\n",
      "0.0\n"
     ]
    },
    {
     "name": "stderr",
     "output_type": "stream",
     "text": [
      "C:\\Users\\patel\\AppData\\Local\\Programs\\Python\\Python310\\lib\\site-packages\\sklearn\\metrics\\_classification.py:1318: UndefinedMetricWarning: Precision and F-score are ill-defined and being set to 0.0 in labels with no predicted samples. Use `zero_division` parameter to control this behavior.\n",
      "  _warn_prf(average, modifier, msg_start, len(result))\n",
      "C:\\Users\\patel\\AppData\\Local\\Programs\\Python\\Python310\\lib\\site-packages\\sklearn\\metrics\\_classification.py:1318: UndefinedMetricWarning: Precision and F-score are ill-defined and being set to 0.0 in labels with no predicted samples. Use `zero_division` parameter to control this behavior.\n",
      "  _warn_prf(average, modifier, msg_start, len(result))\n",
      "C:\\Users\\patel\\AppData\\Local\\Programs\\Python\\Python310\\lib\\site-packages\\sklearn\\metrics\\_classification.py:1318: UndefinedMetricWarning: Precision and F-score are ill-defined and being set to 0.0 in labels with no predicted samples. Use `zero_division` parameter to control this behavior.\n",
      "  _warn_prf(average, modifier, msg_start, len(result))\n"
     ]
    }
   ],
   "source": [
    "#Nisha Data\n",
    "svm_clfn = svm.SVC()\n",
    "svm_clfn.fit(x_train_vecn,y_ntrain)\n",
    "y_npred = svm_clfn.predict(x_test_vecn)\n",
    "print(classification_report(y_ntest, y_npred))\n",
    "print(\"svm Accuracy on nisha : \", accuracy_score(y_ntest,y_npred))\n",
    "svm_vn = accuracy_score(y_ntest,y_npred)\n",
    "rf_n_mcc = matthews_corrcoef(y_ntest,y_npred)\n",
    "rf_n_k = cohen_kappa_score(y_ntest,y_npred)\n",
    "rf_n_f1 = f1_score(y_ntest,y_npred, average='weighted')\n",
    "print(rf_n_k)"
   ]
  },
  {
   "cell_type": "markdown",
   "metadata": {},
   "source": [
    "Evaluation of Word2vec"
   ]
  },
  {
   "cell_type": "code",
   "execution_count": 237,
   "metadata": {},
   "outputs": [
    {
     "data": {
      "image/png": "[encoded data removed]",
      "text/plain": [
       "<Figure size 432x288 with 1 Axes>"
      ]
     },
     "metadata": {
      "needs_background": "light"
     },
     "output_type": "display_data"
    },
    {
     "data": {
      "image/png": "[encoded data removed]",
      "text/plain": [
       "<Figure size 432x288 with 1 Axes>"
      ]
     },
     "metadata": {
      "needs_background": "light"
     },
     "output_type": "display_data"
    },
    {
     "data": {
      "image/png": "[encoded data removed]",
      "text/plain": [
       "<Figure size 432x288 with 1 Axes>"
      ]
     },
     "metadata": {
      "needs_background": "light"
     },
     "output_type": "display_data"
    }
   ],
   "source": [
    "kabikit_vacc = {'Random Forest':rf_vk*100, 'SVM':svm_vk*100, 'Logistic Regression':lr_vk*100, 'Naive bayes':nbv_vk*100}\n",
    "nisha_vacc = {'Random Forest':rf_vn*100, 'SVM':svm_vn*100, 'Logistic Regression':lr_vn*100, 'Naive bayes':nbv_vn*100}\n",
    "\n",
    "kabikit_vmcc = {'Random Forest':rf_k_mcc, 'SVM':svm_k_mcc, 'Logistic Regression':lr_k_mcc, 'Naive Bayes':nbv_k_mcc}\n",
    "nisha_vmcc = {'Random Forest':rf_n_mcc, 'SVM':svm_n_mcc, 'Logistic Regression':lr_n_mcc, 'Naive Bayes':nbv_n_mcc}\n",
    "\n",
    "kabikit_vk = {'Random Forest':rf_k_k, 'SVM':svm_k_k, 'Logistic Regression':lr_k_k, 'Naive Bayes':nbv_k_k}\n",
    "nisha_vk = {'Random Forest':rf_n_k, 'SVM':svm_n_k, 'Logistic Regression':lr_n_k, 'Naive Bayes':nbv_n_k}\n",
    "\n",
    "\n",
    "plt.bar(x=kabikit_vacc.keys(),height=kabikit_vacc.values(), color=['cyan','orange','yellow','grey'])\n",
    "plt.ylabel(\"Accuracy\")\n",
    "plt.title('Kabita Cooking Channel Data and word2vec')\n",
    "plt.show()\n",
    "\n",
    "plt.bar(x=kabikit_vmcc.keys(),height=kabikit_vmcc.values(), color=['cyan','orange','yellow','grey'])\n",
    "plt.ylabel(\"MCC\")\n",
    "plt.title('Kabita Cooking Channel Data and word2vec')\n",
    "plt.show()\n",
    "\n",
    "plt.bar(x=kabikit_vk.keys(),height=kabikit_vk.values(), color=['cyan','orange','yellow','grey'])\n",
    "plt.ylabel(\"Cohen's Kappa \")\n",
    "plt.title('Kabita Cooking Channel Data and word2vec')\n",
    "plt.show()"
   ]
  },
  {
   "cell_type": "code",
   "execution_count": 238,
   "metadata": {},
   "outputs": [
    {
     "data": {
      "image/png": "[encoded data removed]",
      "text/plain": [
       "<Figure size 432x288 with 1 Axes>"
      ]
     },
     "metadata": {
      "needs_background": "light"
     },
     "output_type": "display_data"
    },
    {
     "data": {
      "image/png": "[encoded data removed]",
      "text/plain": [
       "<Figure size 432x288 with 1 Axes>"
      ]
     },
     "metadata": {
      "needs_background": "light"
     },
     "output_type": "display_data"
    },
    {
     "data": {
      "image/png": "[encoded data removed]",
      "text/plain": [
       "<Figure size 432x288 with 1 Axes>"
      ]
     },
     "metadata": {
      "needs_background": "light"
     },
     "output_type": "display_data"
    }
   ],
   "source": [
    "plt.bar(x=nisha_vacc.keys(),height=nisha_vacc.values(), color=['cyan','orange','yellow','grey'])\n",
    "plt.ylabel(\"Accuracy\")\n",
    "plt.title('Nisha Cooking Channel Data and word2vec')\n",
    "plt.show()\n",
    "\n",
    "plt.bar(x=nisha_vmcc.keys(),height=nisha_vmcc.values(), color=['orange','yellow','grey','red'])\n",
    "plt.ylabel(\"MCC\")\n",
    "plt.title('Nisha Cooking Channel Data and word2vec')\n",
    "plt.show()\n",
    "\n",
    "plt.bar(x=nisha_vk.keys(),height=nisha_vk.values(), color=['cyan','red','grey','brown'])\n",
    "plt.ylabel(\"Cohen's Kappa \")\n",
    "plt.title('Nisha Cooking Channel Data and word2vec')\n",
    "plt.show()"
   ]
  },
  {
   "cell_type": "code",
   "execution_count": null,
   "metadata": {},
   "outputs": [],
   "source": []
  }
 ],
 "metadata": {
  "interpreter": {
   "hash": "1533ca2f2789208dfd16058be7603d8f81f0f91d740f97003427152e2fe26087"
  },
  "kernelspec": {
   "display_name": "Python 3.9.7 64-bit",
   "language": "python",
   "name": "python3"
  },
  "language_info": {
   "codemirror_mode": {
    "name": "ipython",
    "version": 3
   },
   "file_extension": ".py",
   "mimetype": "text/x-python",
   "name": "python",
   "nbconvert_exporter": "python",
   "pygments_lexer": "ipython3",
   "version": "3.10.4"
  },
  "orig_nbformat": 4
 },
 "nbformat": 4,
 "nbformat_minor": 2
}
